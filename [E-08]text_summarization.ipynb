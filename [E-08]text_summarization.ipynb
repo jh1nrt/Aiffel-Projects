{
 "cells": [
  {
   "cell_type": "markdown",
   "id": "1fcf103a",
   "metadata": {},
   "source": [
    "# [E-08] 자동 텍스트 요약 인공지능 만들기"
   ]
  },
  {
   "cell_type": "markdown",
   "id": "cf8035a9",
   "metadata": {},
   "source": [
    "### 라이브러리 import"
   ]
  },
  {
   "cell_type": "code",
   "execution_count": 1,
   "id": "55875802",
   "metadata": {},
   "outputs": [
    {
     "name": "stderr",
     "output_type": "stream",
     "text": [
      "[nltk_data] Downloading package stopwords to /aiffel/nltk_data...\n",
      "[nltk_data]   Package stopwords is already up-to-date!\n"
     ]
    },
    {
     "name": "stdout",
     "output_type": "stream",
     "text": [
      "라이브러리 import 및 NLTK 패키지에서 불용어 사전 다운로드 완료\n"
     ]
    }
   ],
   "source": [
    "import nltk\n",
    "nltk.download('stopwords')\n",
    "\n",
    "import numpy as np\n",
    "import pandas as pd\n",
    "import os\n",
    "import re\n",
    "import matplotlib.pyplot as plt\n",
    "from nltk.corpus import stopwords\n",
    "from bs4 import BeautifulSoup \n",
    "from tensorflow.keras.preprocessing.text import Tokenizer \n",
    "from tensorflow.keras.preprocessing.sequence import pad_sequences\n",
    "import urllib.request\n",
    "import warnings\n",
    "warnings.filterwarnings(\"ignore\", category=UserWarning, module='bs4')\n",
    "\n",
    "print('라이브러리 import 및 NLTK 패키지에서 불용어 사전 다운로드 완료')"
   ]
  },
  {
   "cell_type": "markdown",
   "id": "5c2def60",
   "metadata": {},
   "source": [
    "# 2. 데이터 전처리"
   ]
  },
  {
   "cell_type": "markdown",
   "id": "e18ae103",
   "metadata": {},
   "source": [
    "### 데이터 다운로드 및 불러오기"
   ]
  },
  {
   "cell_type": "code",
   "execution_count": 2,
   "id": "8c9b9356",
   "metadata": {},
   "outputs": [],
   "source": [
    "urllib.request.urlretrieve(\"https://raw.githubusercontent.com/sunnysai12345/News_Summary/master/news_summary_more.csv\", filename=\"news_summary_more.csv\")\n",
    "data = pd.read_csv('news_summary_more.csv', encoding='iso-8859-1')"
   ]
  },
  {
   "cell_type": "markdown",
   "id": "c0b18f56",
   "metadata": {},
   "source": [
    "### 데이터 살펴보기"
   ]
  },
  {
   "cell_type": "code",
   "execution_count": 3,
   "id": "106df370",
   "metadata": {},
   "outputs": [
    {
     "data": {
      "text/html": [
       "<div>\n",
       "<style scoped>\n",
       "    .dataframe tbody tr th:only-of-type {\n",
       "        vertical-align: middle;\n",
       "    }\n",
       "\n",
       "    .dataframe tbody tr th {\n",
       "        vertical-align: top;\n",
       "    }\n",
       "\n",
       "    .dataframe thead th {\n",
       "        text-align: right;\n",
       "    }\n",
       "</style>\n",
       "<table border=\"1\" class=\"dataframe\">\n",
       "  <thead>\n",
       "    <tr style=\"text-align: right;\">\n",
       "      <th></th>\n",
       "      <th>headlines</th>\n",
       "      <th>text</th>\n",
       "    </tr>\n",
       "  </thead>\n",
       "  <tbody>\n",
       "    <tr>\n",
       "      <th>962</th>\n",
       "      <td>MS Dhoni, Virat Kohli ride Segway on ground af...</td>\n",
       "      <td>Former India captain MS Dhoni and current capt...</td>\n",
       "    </tr>\n",
       "    <tr>\n",
       "      <th>96941</th>\n",
       "      <td>'Cheap Thrills' singer Sia spotted without her...</td>\n",
       "      <td>Singer Sia, known for songs like 'Cheap Thrill...</td>\n",
       "    </tr>\n",
       "    <tr>\n",
       "      <th>10729</th>\n",
       "      <td>Reason behind demonetisation still a mystery: ...</td>\n",
       "      <td>Delhi CM Arvind Kejriwal on Thursday questione...</td>\n",
       "    </tr>\n",
       "    <tr>\n",
       "      <th>24340</th>\n",
       "      <td>Police summon ex-Gujarat BJP Vice President in...</td>\n",
       "      <td>Surat Police has issued summons to former Guja...</td>\n",
       "    </tr>\n",
       "    <tr>\n",
       "      <th>38416</th>\n",
       "      <td>I'm not political: Apple CEO on running for US...</td>\n",
       "      <td>On being asked if he would consider running fo...</td>\n",
       "    </tr>\n",
       "    <tr>\n",
       "      <th>58935</th>\n",
       "      <td>Player scores over 1,000 Ranji runs in 4 match...</td>\n",
       "      <td>Karnataka opener Mayank Agarwal has hit over 1...</td>\n",
       "    </tr>\n",
       "    <tr>\n",
       "      <th>45925</th>\n",
       "      <td>Kerala withdraws case against MLAs who vandali...</td>\n",
       "      <td>Kerala's CPI (M) government has withdrawn a ca...</td>\n",
       "    </tr>\n",
       "    <tr>\n",
       "      <th>51396</th>\n",
       "      <td>OnePlus confirms 40,000 users' credit card dat...</td>\n",
       "      <td>Smartphone maker OnePlus has admitted that cre...</td>\n",
       "    </tr>\n",
       "    <tr>\n",
       "      <th>7431</th>\n",
       "      <td>1 researcher killed, 3 injured in explosion at...</td>\n",
       "      <td>Researcher Manoj K was killed and three others...</td>\n",
       "    </tr>\n",
       "    <tr>\n",
       "      <th>26994</th>\n",
       "      <td>Chhattisgarh CM defeats no-confidence motion a...</td>\n",
       "      <td>Chhattisgarh Chief Minister Raman Singh-led BJ...</td>\n",
       "    </tr>\n",
       "  </tbody>\n",
       "</table>\n",
       "</div>"
      ],
      "text/plain": [
       "                                               headlines  \\\n",
       "962    MS Dhoni, Virat Kohli ride Segway on ground af...   \n",
       "96941  'Cheap Thrills' singer Sia spotted without her...   \n",
       "10729  Reason behind demonetisation still a mystery: ...   \n",
       "24340  Police summon ex-Gujarat BJP Vice President in...   \n",
       "38416  I'm not political: Apple CEO on running for US...   \n",
       "58935  Player scores over 1,000 Ranji runs in 4 match...   \n",
       "45925  Kerala withdraws case against MLAs who vandali...   \n",
       "51396  OnePlus confirms 40,000 users' credit card dat...   \n",
       "7431   1 researcher killed, 3 injured in explosion at...   \n",
       "26994  Chhattisgarh CM defeats no-confidence motion a...   \n",
       "\n",
       "                                                    text  \n",
       "962    Former India captain MS Dhoni and current capt...  \n",
       "96941  Singer Sia, known for songs like 'Cheap Thrill...  \n",
       "10729  Delhi CM Arvind Kejriwal on Thursday questione...  \n",
       "24340  Surat Police has issued summons to former Guja...  \n",
       "38416  On being asked if he would consider running fo...  \n",
       "58935  Karnataka opener Mayank Agarwal has hit over 1...  \n",
       "45925  Kerala's CPI (M) government has withdrawn a ca...  \n",
       "51396  Smartphone maker OnePlus has admitted that cre...  \n",
       "7431   Researcher Manoj K was killed and three others...  \n",
       "26994  Chhattisgarh Chief Minister Raman Singh-led BJ...  "
      ]
     },
     "execution_count": 3,
     "metadata": {},
     "output_type": "execute_result"
    }
   ],
   "source": [
    "data.sample(10)"
   ]
  },
  {
   "cell_type": "markdown",
   "id": "72dc89b0",
   "metadata": {},
   "source": [
    "### 학습에 사용할 데이터만 뽑아 재출력"
   ]
  },
  {
   "cell_type": "code",
   "execution_count": 4,
   "id": "dd4a8466",
   "metadata": {},
   "outputs": [
    {
     "data": {
      "text/html": [
       "<div>\n",
       "<style scoped>\n",
       "    .dataframe tbody tr th:only-of-type {\n",
       "        vertical-align: middle;\n",
       "    }\n",
       "\n",
       "    .dataframe tbody tr th {\n",
       "        vertical-align: top;\n",
       "    }\n",
       "\n",
       "    .dataframe thead th {\n",
       "        text-align: right;\n",
       "    }\n",
       "</style>\n",
       "<table border=\"1\" class=\"dataframe\">\n",
       "  <thead>\n",
       "    <tr style=\"text-align: right;\">\n",
       "      <th></th>\n",
       "      <th>headlines</th>\n",
       "      <th>text</th>\n",
       "    </tr>\n",
       "  </thead>\n",
       "  <tbody>\n",
       "    <tr>\n",
       "      <th>66498</th>\n",
       "      <td>UFC champion defends title for record-breaking...</td>\n",
       "      <td>American mixed martial artist Demetrious Johns...</td>\n",
       "    </tr>\n",
       "  </tbody>\n",
       "</table>\n",
       "</div>"
      ],
      "text/plain": [
       "                                               headlines  \\\n",
       "66498  UFC champion defends title for record-breaking...   \n",
       "\n",
       "                                                    text  \n",
       "66498  American mixed martial artist Demetrious Johns...  "
      ]
     },
     "execution_count": 4,
     "metadata": {},
     "output_type": "execute_result"
    }
   ],
   "source": [
    "data = data[['headlines','text']]\n",
    "data.head()\n",
    "\n",
    "#랜덤한 15개 샘플 출력\n",
    "data.sample(1)"
   ]
  },
  {
   "cell_type": "markdown",
   "id": "62cff53a",
   "metadata": {},
   "source": [
    "### 중복 데이터를 제외한 데이터 확인"
   ]
  },
  {
   "cell_type": "code",
   "execution_count": 5,
   "id": "074648f6",
   "metadata": {},
   "outputs": [
    {
     "name": "stdout",
     "output_type": "stream",
     "text": [
      "headlines 열에서 중복을 배제한 유일한 샘플의 수 : 98360\n",
      "text 열에서 중복을 배제한 유일한 샘플의 수 : 98280\n"
     ]
    }
   ],
   "source": [
    "print('headlines 열에서 중복을 배제한 유일한 샘플의 수 :', data['text'].nunique())\n",
    "print('text 열에서 중복을 배제한 유일한 샘플의 수 :', data['headlines'].nunique())"
   ]
  },
  {
   "cell_type": "markdown",
   "id": "365fe9f2",
   "metadata": {},
   "source": [
    "### 중복 데이터 제거"
   ]
  },
  {
   "cell_type": "code",
   "execution_count": 6,
   "id": "7fd86d0f",
   "metadata": {},
   "outputs": [
    {
     "name": "stdout",
     "output_type": "stream",
     "text": [
      "전체 샘플수 : 98262\n"
     ]
    }
   ],
   "source": [
    "# inplace=True 를 설정하면 DataFrame 타입 값을 return 하지 않고 data 내부를 직접적으로 바꿉니다\n",
    "data.drop_duplicates(subset = ['text'], inplace=True)\n",
    "data.drop_duplicates(subset = ['headlines'], inplace=True)\n",
    "print('전체 샘플수 :', (len(data)))"
   ]
  },
  {
   "cell_type": "markdown",
   "id": "f9c5fa2f",
   "metadata": {},
   "source": [
    "### 결측치 확인"
   ]
  },
  {
   "cell_type": "code",
   "execution_count": 7,
   "id": "f9f5b5f1",
   "metadata": {},
   "outputs": [
    {
     "name": "stdout",
     "output_type": "stream",
     "text": [
      "headlines    0\n",
      "text         0\n",
      "dtype: int64\n"
     ]
    }
   ],
   "source": [
    "print(data.isnull().sum())"
   ]
  },
  {
   "cell_type": "markdown",
   "id": "ebb85377",
   "metadata": {},
   "source": [
    "### 동일 의미를 지닌 텍스트의 정규화 처리를 위한 텍스트 정규화 사전 불러오기"
   ]
  },
  {
   "cell_type": "code",
   "execution_count": 8,
   "id": "b0df9075",
   "metadata": {},
   "outputs": [
    {
     "name": "stdout",
     "output_type": "stream",
     "text": [
      "정규화 사전의 수:  120\n"
     ]
    }
   ],
   "source": [
    "contractions = {\"ain't\": \"is not\", \"aren't\": \"are not\",\"can't\": \"cannot\", \"'cause\": \"because\", \"could've\": \"could have\", \"couldn't\": \"could not\",\n",
    "                           \"didn't\": \"did not\",  \"doesn't\": \"does not\", \"don't\": \"do not\", \"hadn't\": \"had not\", \"hasn't\": \"has not\", \"haven't\": \"have not\",\n",
    "                           \"he'd\": \"he would\",\"he'll\": \"he will\", \"he's\": \"he is\", \"how'd\": \"how did\", \"how'd'y\": \"how do you\", \"how'll\": \"how will\", \"how's\": \"how is\",\n",
    "                           \"I'd\": \"I would\", \"I'd've\": \"I would have\", \"I'll\": \"I will\", \"I'll've\": \"I will have\",\"I'm\": \"I am\", \"I've\": \"I have\", \"i'd\": \"i would\",\n",
    "                           \"i'd've\": \"i would have\", \"i'll\": \"i will\",  \"i'll've\": \"i will have\",\"i'm\": \"i am\", \"i've\": \"i have\", \"isn't\": \"is not\", \"it'd\": \"it would\",\n",
    "                           \"it'd've\": \"it would have\", \"it'll\": \"it will\", \"it'll've\": \"it will have\",\"it's\": \"it is\", \"let's\": \"let us\", \"ma'am\": \"madam\",\n",
    "                           \"mayn't\": \"may not\", \"might've\": \"might have\",\"mightn't\": \"might not\",\"mightn't've\": \"might not have\", \"must've\": \"must have\",\n",
    "                           \"mustn't\": \"must not\", \"mustn't've\": \"must not have\", \"needn't\": \"need not\", \"needn't've\": \"need not have\",\"o'clock\": \"of the clock\",\n",
    "                           \"oughtn't\": \"ought not\", \"oughtn't've\": \"ought not have\", \"shan't\": \"shall not\", \"sha'n't\": \"shall not\", \"shan't've\": \"shall not have\",\n",
    "                           \"she'd\": \"she would\", \"she'd've\": \"she would have\", \"she'll\": \"she will\", \"she'll've\": \"she will have\", \"she's\": \"she is\",\n",
    "                           \"should've\": \"should have\", \"shouldn't\": \"should not\", \"shouldn't've\": \"should not have\", \"so've\": \"so have\",\"so's\": \"so as\",\n",
    "                           \"this's\": \"this is\",\"that'd\": \"that would\", \"that'd've\": \"that would have\", \"that's\": \"that is\", \"there'd\": \"there would\",\n",
    "                           \"there'd've\": \"there would have\", \"there's\": \"there is\", \"here's\": \"here is\",\"they'd\": \"they would\", \"they'd've\": \"they would have\",\n",
    "                           \"they'll\": \"they will\", \"they'll've\": \"they will have\", \"they're\": \"they are\", \"they've\": \"they have\", \"to've\": \"to have\",\n",
    "                           \"wasn't\": \"was not\", \"we'd\": \"we would\", \"we'd've\": \"we would have\", \"we'll\": \"we will\", \"we'll've\": \"we will have\", \"we're\": \"we are\",\n",
    "                           \"we've\": \"we have\", \"weren't\": \"were not\", \"what'll\": \"what will\", \"what'll've\": \"what will have\", \"what're\": \"what are\",\n",
    "                           \"what's\": \"what is\", \"what've\": \"what have\", \"when's\": \"when is\", \"when've\": \"when have\", \"where'd\": \"where did\", \"where's\": \"where is\",\n",
    "                           \"where've\": \"where have\", \"who'll\": \"who will\", \"who'll've\": \"who will have\", \"who's\": \"who is\", \"who've\": \"who have\",\n",
    "                           \"why's\": \"why is\", \"why've\": \"why have\", \"will've\": \"will have\", \"won't\": \"will not\", \"won't've\": \"will not have\",\n",
    "                           \"would've\": \"would have\", \"wouldn't\": \"would not\", \"wouldn't've\": \"would not have\", \"y'all\": \"you all\",\n",
    "                           \"y'all'd\": \"you all would\",\"y'all'd've\": \"you all would have\",\"y'all're\": \"you all are\",\"y'all've\": \"you all have\",\n",
    "                           \"you'd\": \"you would\", \"you'd've\": \"you would have\", \"you'll\": \"you will\", \"you'll've\": \"you will have\",\n",
    "                           \"you're\": \"you are\", \"you've\": \"you have\"}\n",
    "\n",
    "print(\"정규화 사전의 수: \", len(contractions))"
   ]
  },
  {
   "cell_type": "markdown",
   "id": "48dff07d",
   "metadata": {},
   "source": [
    "### 학습에 도움이 되지 않는 불용어를 NLTK에서 제공하는 불용어 리스트를 참조하여 제거하기"
   ]
  },
  {
   "cell_type": "code",
   "execution_count": 9,
   "id": "b2912e9f",
   "metadata": {},
   "outputs": [
    {
     "name": "stdout",
     "output_type": "stream",
     "text": [
      "불용어 개수 : 179\n",
      "['i', 'me', 'my', 'myself', 'we', 'our', 'ours', 'ourselves', 'you', \"you're\", \"you've\", \"you'll\", \"you'd\", 'your', 'yours', 'yourself', 'yourselves', 'he', 'him', 'his', 'himself', 'she', \"she's\", 'her', 'hers', 'herself', 'it', \"it's\", 'its', 'itself', 'they', 'them', 'their', 'theirs', 'themselves', 'what', 'which', 'who', 'whom', 'this', 'that', \"that'll\", 'these', 'those', 'am', 'is', 'are', 'was', 'were', 'be', 'been', 'being', 'have', 'has', 'had', 'having', 'do', 'does', 'did', 'doing', 'a', 'an', 'the', 'and', 'but', 'if', 'or', 'because', 'as', 'until', 'while', 'of', 'at', 'by', 'for', 'with', 'about', 'against', 'between', 'into', 'through', 'during', 'before', 'after', 'above', 'below', 'to', 'from', 'up', 'down', 'in', 'out', 'on', 'off', 'over', 'under', 'again', 'further', 'then', 'once', 'here', 'there', 'when', 'where', 'why', 'how', 'all', 'any', 'both', 'each', 'few', 'more', 'most', 'other', 'some', 'such', 'no', 'nor', 'not', 'only', 'own', 'same', 'so', 'than', 'too', 'very', 's', 't', 'can', 'will', 'just', 'don', \"don't\", 'should', \"should've\", 'now', 'd', 'll', 'm', 'o', 're', 've', 'y', 'ain', 'aren', \"aren't\", 'couldn', \"couldn't\", 'didn', \"didn't\", 'doesn', \"doesn't\", 'hadn', \"hadn't\", 'hasn', \"hasn't\", 'haven', \"haven't\", 'isn', \"isn't\", 'ma', 'mightn', \"mightn't\", 'mustn', \"mustn't\", 'needn', \"needn't\", 'shan', \"shan't\", 'shouldn', \"shouldn't\", 'wasn', \"wasn't\", 'weren', \"weren't\", 'won', \"won't\", 'wouldn', \"wouldn't\"]\n"
     ]
    }
   ],
   "source": [
    "print('불용어 개수 :', len(stopwords.words('english') ))\n",
    "print(stopwords.words('english'))"
   ]
  },
  {
   "cell_type": "markdown",
   "id": "75478e9f",
   "metadata": {},
   "source": [
    "### 공백, 특수문자, html 태그 제거 등 텍스트 정리 함수 작성"
   ]
  },
  {
   "cell_type": "code",
   "execution_count": 10,
   "id": "6cb33d46",
   "metadata": {},
   "outputs": [
    {
     "name": "stdout",
     "output_type": "stream",
     "text": [
      "=3\n"
     ]
    }
   ],
   "source": [
    "# 데이터 전처리 함수\n",
    "def preprocess_sentence(sentence, remove_stopwords=True):\n",
    "    sentence = sentence.lower() # 텍스트 소문자화\n",
    "    sentence = BeautifulSoup(sentence, \"lxml\").text # <br />, <a href = ...> 등의 html 태그 제거\n",
    "    sentence = re.sub(r'\\([^)]*\\)', '', sentence) # 괄호로 닫힌 문자열 (...) 제거 Ex) my husband (and myself!) for => my husband for\n",
    "    sentence = re.sub('\"','', sentence) # 쌍따옴표 \" 제거\n",
    "    sentence = ' '.join([contractions[t] if t in contractions else t for t in sentence.split(\" \")]) # 약어 정규화\n",
    "    sentence = re.sub(r\"'s\\b\",\"\", sentence) # 소유격 제거. Ex) roland's -> roland\n",
    "    sentence = re.sub(\"[^a-zA-Z]\", \" \", sentence) # 영어 외 문자(숫자, 특수문자 등) 공백으로 변환\n",
    "    sentence = re.sub('[m]{2,}', 'mm', sentence) # m이 3개 이상이면 2개로 변경. Ex) ummmmmmm yeah -> umm yeah\n",
    "    \n",
    "    # 불용어 제거 (Text)\n",
    "    if remove_stopwords:\n",
    "        tokens = ' '.join(word for word in sentence.split() if not word in stopwords.words('english') if len(word) > 1)\n",
    "    # 불용어 미제거 (Headlines)\n",
    "    else:\n",
    "        tokens = ' '.join(word for word in sentence.split() if len(word) > 1)\n",
    "    return tokens\n",
    "print('=3')"
   ]
  },
  {
   "cell_type": "markdown",
   "id": "54f10391",
   "metadata": {},
   "source": [
    "### 작성한 함수가 잘 작동하는지 확인"
   ]
  },
  {
   "cell_type": "code",
   "execution_count": 11,
   "id": "cc389235",
   "metadata": {},
   "outputs": [
    {
     "name": "stdout",
     "output_type": "stream",
     "text": [
      "text:  everything bought great infact ordered twice third ordered wasfor mother father\n",
      "headlines: great way to start the day\n"
     ]
    }
   ],
   "source": [
    "temp_text = 'Everything I bought was great, infact I ordered twice and the third ordered was<br />for my mother and father.'\n",
    "temp_headlines = 'Great way to start (or finish) the day!!!'\n",
    "\n",
    "print(\"text: \", preprocess_sentence(temp_text))\n",
    "print(\"headlines:\", preprocess_sentence(temp_headlines, False))  # 불용어를 제거하지 않습니다."
   ]
  },
  {
   "cell_type": "markdown",
   "id": "ea792073",
   "metadata": {},
   "source": [
    "### 완성된 함수로 훈련데이터 전체에 대해 전처리 진행"
   ]
  },
  {
   "cell_type": "code",
   "execution_count": 12,
   "id": "168e12f4",
   "metadata": {},
   "outputs": [
    {
     "name": "stdout",
     "output_type": "stream",
     "text": [
      "text 전처리 후 결과:  ['saurav kant alumnus upgrad iiit pg program machine learning artificial intelligence sr systems engineer infosys almost years work experience program upgrad degree career support helped transition data scientist tech mahindra salary hike upgrad online power learning powered lakh careers', 'kunal shah credit card bill payment platform cred gave users chance win free food swiggy one year pranav kaushik delhi techie bagged reward spending cred coins users get one cred coin per rupee bill paid used avail rewards brands like ixigo bookmyshow ubereats cult fit', 'new zealand defeated india wickets fourth odi hamilton thursday win first match five match odi series india lost international match rohit sharma captaincy consecutive victories dating back march match witnessed india getting seventh lowest total odi cricket history', 'aegon life iterm insurance plan customers enjoy tax benefits premiums paid save taxes plan provides life cover age years also customers options insure critical illnesses disability accidental death benefit rider life cover age years', 'speaking sexual harassment allegations rajkumar hirani sonam kapoor said known hirani many years true metoo movement get derailed metoo movement always believe woman case need reserve judgment added hirani accused assistant worked sanju']\n"
     ]
    }
   ],
   "source": [
    "clean_text = []\n",
    "# 전체 Text 데이터에 대한 전처리 : 10분 이상 시간이 걸릴 수 있습니다. \n",
    "for s in data['text']:\n",
    "    clean_text.append(preprocess_sentence(s))\n",
    "\n",
    "# 전처리 후 출력\n",
    "print(\"text 전처리 후 결과: \", clean_text[:5])"
   ]
  },
  {
   "cell_type": "markdown",
   "id": "a8da6b1e",
   "metadata": {},
   "source": [
    "### Headlines에서의 불용어 제거 제외"
   ]
  },
  {
   "cell_type": "code",
   "execution_count": 13,
   "id": "8ce46ac0",
   "metadata": {},
   "outputs": [
    {
     "name": "stdout",
     "output_type": "stream",
     "text": [
      "Headlines 전처리 후 결과:  ['upgrad learner switches to career in ml al with salary hike', 'delhi techie wins free food from swiggy for one year on cred', 'new zealand end rohit sharma led india match winning streak', 'aegon life iterm insurance plan helps customers save tax', 'have known hirani for yrs what if metoo claims are not true sonam']\n"
     ]
    }
   ],
   "source": [
    "clean_headlines = []\n",
    "# 전체 Headlines 데이터에 대한 전처리 : 5분 이상 시간이 걸릴 수 있습니다. \n",
    "for s in data['headlines']:\n",
    "    clean_headlines.append(preprocess_sentence(s, False))\n",
    "\n",
    "print(\"Headlines 전처리 후 결과: \", clean_headlines[:5])"
   ]
  },
  {
   "cell_type": "markdown",
   "id": "5ccbc07a",
   "metadata": {},
   "source": [
    "### 빈 샘플이 생겼는지 재확인하기 위해 데이터를 데이터 프레임에 저장"
   ]
  },
  {
   "cell_type": "code",
   "execution_count": 14,
   "id": "7e055fb3",
   "metadata": {},
   "outputs": [],
   "source": [
    "data['text'] = clean_text\n",
    "data['headlines'] = clean_headlines\n",
    "\n",
    "# 빈 값을 Null 값으로 변환\n",
    "data.replace('', np.nan, inplace=True)"
   ]
  },
  {
   "cell_type": "markdown",
   "id": "47eb1c79",
   "metadata": {},
   "source": [
    "### 재확인"
   ]
  },
  {
   "cell_type": "code",
   "execution_count": 15,
   "id": "1d2d6672",
   "metadata": {},
   "outputs": [
    {
     "data": {
      "text/plain": [
       "headlines    0\n",
       "text         0\n",
       "dtype: int64"
      ]
     },
     "execution_count": 15,
     "metadata": {},
     "output_type": "execute_result"
    }
   ],
   "source": [
    "data.isnull().sum()"
   ]
  },
  {
   "cell_type": "markdown",
   "id": "8117afc5",
   "metadata": {},
   "source": [
    "### Summary 내 새로생긴 70개의 결측치 제거"
   ]
  },
  {
   "cell_type": "code",
   "execution_count": 16,
   "id": "1dab58a2",
   "metadata": {},
   "outputs": [
    {
     "name": "stdout",
     "output_type": "stream",
     "text": [
      "전체 샘플수 : 98262\n"
     ]
    }
   ],
   "source": [
    "data.dropna(axis=0, inplace=True)\n",
    "print('전체 샘플수 :', (len(data)))"
   ]
  },
  {
   "cell_type": "markdown",
   "id": "261fad81",
   "metadata": {},
   "source": [
    "### 샘플의 최대 길이 정하기"
   ]
  },
  {
   "cell_type": "code",
   "execution_count": 17,
   "id": "c3ae6836",
   "metadata": {},
   "outputs": [
    {
     "name": "stdout",
     "output_type": "stream",
     "text": [
      "텍스트의 최소 길이 : 1\n",
      "텍스트의 최대 길이 : 60\n",
      "텍스트의 평균 길이 : 35.10029309397326\n",
      "요약의 최소 길이 : 1\n",
      "요약의 최대 길이 : 16\n",
      "요약의 평균 길이 : 9.299444342675704\n"
     ]
    },
    {
     "data": {
      "image/png": "[encoded data removed]",
      "text/plain": [
       "<Figure size 432x288 with 2 Axes>"
      ]
     },
     "metadata": {
      "needs_background": "light"
     },
     "output_type": "display_data"
    },
    {
     "data": {
      "image/png": "[encoded data removed]",
      "text/plain": [
       "<Figure size 432x288 with 1 Axes>"
      ]
     },
     "metadata": {
      "needs_background": "light"
     },
     "output_type": "display_data"
    },
    {
     "data": {
      "image/png": "[encoded data removed]",
      "text/plain": [
       "<Figure size 432x288 with 1 Axes>"
      ]
     },
     "metadata": {
      "needs_background": "light"
     },
     "output_type": "display_data"
    }
   ],
   "source": [
    "# 길이 분포 출력\n",
    "import matplotlib.pyplot as plt\n",
    "\n",
    "text_len = [len(s.split()) for s in data['text']]\n",
    "headlines_len = [len(s.split()) for s in data['headlines']]\n",
    "\n",
    "print('텍스트의 최소 길이 : {}'.format(np.min(text_len)))\n",
    "print('텍스트의 최대 길이 : {}'.format(np.max(text_len)))\n",
    "print('텍스트의 평균 길이 : {}'.format(np.mean(text_len)))\n",
    "print('요약의 최소 길이 : {}'.format(np.min(headlines_len)))\n",
    "print('요약의 최대 길이 : {}'.format(np.max(headlines_len)))\n",
    "print('요약의 평균 길이 : {}'.format(np.mean(headlines_len)))\n",
    "\n",
    "plt.subplot(1,2,1)\n",
    "plt.boxplot(text_len)\n",
    "plt.title('text')\n",
    "plt.subplot(1,2,2)\n",
    "plt.boxplot(headlines_len)\n",
    "plt.title('headlines')\n",
    "plt.tight_layout()\n",
    "plt.show()\n",
    "\n",
    "plt.title('text')\n",
    "plt.hist(text_len, bins = 40)\n",
    "plt.xlabel('length of samples')\n",
    "plt.ylabel('number of samples')\n",
    "plt.show()\n",
    "\n",
    "plt.title('headlines')\n",
    "plt.hist(headlines_len, bins = 40)\n",
    "plt.xlabel('length of samples')\n",
    "plt.ylabel('number of samples')\n",
    "plt.show()"
   ]
  },
  {
   "cell_type": "markdown",
   "id": "ee67778f",
   "metadata": {},
   "source": [
    "### 적절한 길이를 임의로 정하고 해당 데이터의 분포 비율을 확인하기 "
   ]
  },
  {
   "cell_type": "code",
   "execution_count": 37,
   "id": "8971caf2",
   "metadata": {},
   "outputs": [
    {
     "name": "stdout",
     "output_type": "stream",
     "text": [
      "=3\n"
     ]
    }
   ],
   "source": [
    "text_max_len = 38\n",
    "headlines_max_len = 10\n",
    "print('=3')"
   ]
  },
  {
   "cell_type": "markdown",
   "id": "04cbdde0",
   "metadata": {},
   "source": [
    "### 비율 계산 함수 작성"
   ]
  },
  {
   "cell_type": "code",
   "execution_count": 38,
   "id": "75cf491e",
   "metadata": {},
   "outputs": [
    {
     "name": "stdout",
     "output_type": "stream",
     "text": [
      "=3\n"
     ]
    }
   ],
   "source": [
    "def below_threshold_len(max_len, nested_list):\n",
    "  cnt = 0\n",
    "  for s in nested_list:\n",
    "    if(len(s.split()) <= max_len):\n",
    "        cnt = cnt + 1\n",
    "  print('전체 샘플 중 길이가 %s 이하인 샘플의 비율: %s'%(max_len, (cnt / len(nested_list))))\n",
    "print('=3')"
   ]
  },
  {
   "cell_type": "markdown",
   "id": "76f9cf0b",
   "metadata": {},
   "source": [
    "### 비율 확인"
   ]
  },
  {
   "cell_type": "code",
   "execution_count": 39,
   "id": "00ff8157",
   "metadata": {},
   "outputs": [
    {
     "name": "stdout",
     "output_type": "stream",
     "text": [
      "전체 샘플 중 길이가 38 이하인 샘플의 비율: 0.816317599886019\n",
      "전체 샘플 중 길이가 10 이하인 샘플의 비율: 0.816317599886019\n"
     ]
    }
   ],
   "source": [
    "below_threshold_len(text_max_len, data['text'])\n",
    "below_threshold_len(headlines_max_len,  data['headlines'])"
   ]
  },
  {
   "cell_type": "markdown",
   "id": "ba688e54",
   "metadata": {},
   "source": [
    "### 정해진 길이보다 긴 데이터는 제외시켜서 데이터 정제"
   ]
  },
  {
   "cell_type": "code",
   "execution_count": 40,
   "id": "6511e73a",
   "metadata": {},
   "outputs": [
    {
     "name": "stdout",
     "output_type": "stream",
     "text": [
      "전체 샘플수 : 65231\n"
     ]
    }
   ],
   "source": [
    "data = data[data['text'].apply(lambda x: len(x.split()) <= text_max_len)]\n",
    "data = data[data['headlines'].apply(lambda x: len(x.split()) <= headlines_max_len)]\n",
    "print('전체 샘플수 :', (len(data)))"
   ]
  },
  {
   "cell_type": "markdown",
   "id": "36b531c4",
   "metadata": {},
   "source": [
    "### 시작 토큰과 종료 토큰 추가"
   ]
  },
  {
   "cell_type": "code",
   "execution_count": 41,
   "id": "987cf060",
   "metadata": {},
   "outputs": [
    {
     "data": {
      "text/html": [
       "<div>\n",
       "<style scoped>\n",
       "    .dataframe tbody tr th:only-of-type {\n",
       "        vertical-align: middle;\n",
       "    }\n",
       "\n",
       "    .dataframe tbody tr th {\n",
       "        vertical-align: top;\n",
       "    }\n",
       "\n",
       "    .dataframe thead th {\n",
       "        text-align: right;\n",
       "    }\n",
       "</style>\n",
       "<table border=\"1\" class=\"dataframe\">\n",
       "  <thead>\n",
       "    <tr style=\"text-align: right;\">\n",
       "      <th></th>\n",
       "      <th>headlines</th>\n",
       "      <th>text</th>\n",
       "      <th>decoder_input</th>\n",
       "      <th>decoder_target</th>\n",
       "    </tr>\n",
       "  </thead>\n",
       "  <tbody>\n",
       "    <tr>\n",
       "      <th>2</th>\n",
       "      <td>new zealand end rohit sharma led india match w...</td>\n",
       "      <td>new zealand defeated india wickets fourth odi ...</td>\n",
       "      <td>sostoken new zealand end rohit sharma led indi...</td>\n",
       "      <td>new zealand end rohit sharma led india match w...</td>\n",
       "    </tr>\n",
       "    <tr>\n",
       "      <th>3</th>\n",
       "      <td>aegon life iterm insurance plan helps customer...</td>\n",
       "      <td>aegon life iterm insurance plan customers enjo...</td>\n",
       "      <td>sostoken aegon life iterm insurance plan helps...</td>\n",
       "      <td>aegon life iterm insurance plan helps customer...</td>\n",
       "    </tr>\n",
       "    <tr>\n",
       "      <th>5</th>\n",
       "      <td>rahat fateh ali khan denies getting notice for...</td>\n",
       "      <td>pakistani singer rahat fateh ali khan denied r...</td>\n",
       "      <td>sostoken rahat fateh ali khan denies getting n...</td>\n",
       "      <td>rahat fateh ali khan denies getting notice for...</td>\n",
       "    </tr>\n",
       "    <tr>\n",
       "      <th>9</th>\n",
       "      <td>cong wins ramgarh bypoll in rajasthan takes to...</td>\n",
       "      <td>congress candidate shafia zubair ramgarh assem...</td>\n",
       "      <td>sostoken cong wins ramgarh bypoll in rajasthan...</td>\n",
       "      <td>cong wins ramgarh bypoll in rajasthan takes to...</td>\n",
       "    </tr>\n",
       "    <tr>\n",
       "      <th>10</th>\n",
       "      <td>up cousins fed human excreta for friendship wi...</td>\n",
       "      <td>two minor cousins uttar pradesh gorakhpur alle...</td>\n",
       "      <td>sostoken up cousins fed human excreta for frie...</td>\n",
       "      <td>up cousins fed human excreta for friendship wi...</td>\n",
       "    </tr>\n",
       "  </tbody>\n",
       "</table>\n",
       "</div>"
      ],
      "text/plain": [
       "                                            headlines  \\\n",
       "2   new zealand end rohit sharma led india match w...   \n",
       "3   aegon life iterm insurance plan helps customer...   \n",
       "5   rahat fateh ali khan denies getting notice for...   \n",
       "9   cong wins ramgarh bypoll in rajasthan takes to...   \n",
       "10  up cousins fed human excreta for friendship wi...   \n",
       "\n",
       "                                                 text  \\\n",
       "2   new zealand defeated india wickets fourth odi ...   \n",
       "3   aegon life iterm insurance plan customers enjo...   \n",
       "5   pakistani singer rahat fateh ali khan denied r...   \n",
       "9   congress candidate shafia zubair ramgarh assem...   \n",
       "10  two minor cousins uttar pradesh gorakhpur alle...   \n",
       "\n",
       "                                        decoder_input  \\\n",
       "2   sostoken new zealand end rohit sharma led indi...   \n",
       "3   sostoken aegon life iterm insurance plan helps...   \n",
       "5   sostoken rahat fateh ali khan denies getting n...   \n",
       "9   sostoken cong wins ramgarh bypoll in rajasthan...   \n",
       "10  sostoken up cousins fed human excreta for frie...   \n",
       "\n",
       "                                       decoder_target  \n",
       "2   new zealand end rohit sharma led india match w...  \n",
       "3   aegon life iterm insurance plan helps customer...  \n",
       "5   rahat fateh ali khan denies getting notice for...  \n",
       "9   cong wins ramgarh bypoll in rajasthan takes to...  \n",
       "10  up cousins fed human excreta for friendship wi...  "
      ]
     },
     "execution_count": 41,
     "metadata": {},
     "output_type": "execute_result"
    }
   ],
   "source": [
    "# 요약 데이터에는 시작 토큰과 종료 토큰을 추가한다.\n",
    "data['decoder_input'] = data['headlines'].apply(lambda x : 'sostoken '+ x)\n",
    "data['decoder_target'] = data['headlines'].apply(lambda x : x + ' eostoken')\n",
    "data.head()"
   ]
  },
  {
   "cell_type": "markdown",
   "id": "2f1445ca",
   "metadata": {},
   "source": [
    "### 인코더, 디코더의 입력과 레이블을 Numpy 타입으로 저장"
   ]
  },
  {
   "cell_type": "code",
   "execution_count": 43,
   "id": "4fb0ad80",
   "metadata": {},
   "outputs": [
    {
     "name": "stdout",
     "output_type": "stream",
     "text": [
      "encoder_input, decoder_input, decoder_target => Numpy array로 저장 완료\n"
     ]
    }
   ],
   "source": [
    "encoder_input = np.array(data['text']) # 인코더의 입력\n",
    "decoder_input = np.array(data['decoder_input']) # 디코더의 입력\n",
    "decoder_target = np.array(data['decoder_target']) # 디코더의 레이블\n",
    "print('encoder_input, decoder_input, decoder_target => Numpy array로 저장 완료')"
   ]
  },
  {
   "cell_type": "markdown",
   "id": "92687c85",
   "metadata": {},
   "source": [
    "### 훈련, 테스트 데이터셋 분리를 위한 정수 시퀀스 만들기"
   ]
  },
  {
   "cell_type": "code",
   "execution_count": 44,
   "id": "f169e0e2",
   "metadata": {},
   "outputs": [
    {
     "name": "stdout",
     "output_type": "stream",
     "text": [
      "[ 5452 56672 58854 ... 53676 61999 32150]\n"
     ]
    }
   ],
   "source": [
    "indices = np.arange(encoder_input.shape[0])\n",
    "np.random.shuffle(indices)\n",
    "print(indices)"
   ]
  },
  {
   "cell_type": "markdown",
   "id": "c77ffe1e",
   "metadata": {},
   "source": [
    "### 만들어진 정수 시퀀스를 이용해 샘플의 순서 재정의"
   ]
  },
  {
   "cell_type": "code",
   "execution_count": 45,
   "id": "b08525db",
   "metadata": {},
   "outputs": [
    {
     "name": "stdout",
     "output_type": "stream",
     "text": [
      "=3\n"
     ]
    }
   ],
   "source": [
    "encoder_input = encoder_input[indices]\n",
    "decoder_input = decoder_input[indices]\n",
    "decoder_target = decoder_target[indices]\n",
    "print('=3')"
   ]
  },
  {
   "cell_type": "markdown",
   "id": "52c02ef4",
   "metadata": {},
   "source": [
    "### 데이터셋 분리"
   ]
  },
  {
   "cell_type": "code",
   "execution_count": 46,
   "id": "93f2d7ff",
   "metadata": {},
   "outputs": [
    {
     "name": "stdout",
     "output_type": "stream",
     "text": [
      "테스트 데이터의 수 : 13046\n"
     ]
    }
   ],
   "source": [
    "n_of_val = int(len(encoder_input)*0.2)\n",
    "print('테스트 데이터의 수 :', n_of_val)"
   ]
  },
  {
   "cell_type": "markdown",
   "id": "efaeec1d",
   "metadata": {},
   "source": [
    "### 전체 데이터 양분"
   ]
  },
  {
   "cell_type": "code",
   "execution_count": 47,
   "id": "95d82910",
   "metadata": {},
   "outputs": [
    {
     "name": "stdout",
     "output_type": "stream",
     "text": [
      "훈련 데이터의 개수 : 52185\n",
      "훈련 레이블의 개수 : 52185\n",
      "테스트 데이터의 개수 : 13046\n",
      "테스트 레이블의 개수 : 13046\n"
     ]
    }
   ],
   "source": [
    "encoder_input_train = encoder_input[:-n_of_val]\n",
    "decoder_input_train = decoder_input[:-n_of_val]\n",
    "decoder_target_train = decoder_target[:-n_of_val]\n",
    "\n",
    "encoder_input_test = encoder_input[-n_of_val:]\n",
    "decoder_input_test = decoder_input[-n_of_val:]\n",
    "decoder_target_test = decoder_target[-n_of_val:]\n",
    "\n",
    "print('훈련 데이터의 개수 :', len(encoder_input_train))\n",
    "print('훈련 레이블의 개수 :', len(decoder_input_train))\n",
    "print('테스트 데이터의 개수 :', len(encoder_input_test))\n",
    "print('테스트 레이블의 개수 :', len(decoder_input_test))"
   ]
  },
  {
   "cell_type": "markdown",
   "id": "27cde0c0",
   "metadata": {},
   "source": [
    "### 정수 인코딩\n",
    "기계가 텍스트를 숫자로 인식할 수 있도록 텍스트 데이터를 정수로 전환한다. 이를 위해서는 각 단어에 고유한 정수를 맵핑하는 작업이 필요하고 이를 단어 집합을 만든다고 표현한다. 여기서 정제된 훈련 데이터를 단어 집합으로 만들어 본다. "
   ]
  },
  {
   "cell_type": "markdown",
   "id": "6fadeea0",
   "metadata": {},
   "source": [
    "### Keras의 토크나이저를 사용하여 단어집합으로 만들기 "
   ]
  },
  {
   "cell_type": "code",
   "execution_count": 48,
   "id": "f6268b25",
   "metadata": {},
   "outputs": [
    {
     "name": "stdout",
     "output_type": "stream",
     "text": [
      "=3\n"
     ]
    }
   ],
   "source": [
    "src_tokenizer = Tokenizer() # 토크나이저 정의\n",
    "src_tokenizer.fit_on_texts(encoder_input_train) # 입력된 데이터로부터 단어 집합 생성\n",
    "print('=3')"
   ]
  },
  {
   "cell_type": "markdown",
   "id": "48e7f121",
   "metadata": {},
   "source": [
    "단어집합이 생성됨과 동시에 각 단어에 고유한 정수가 부여되었다. 생성된 단어 집합은 src_tokenizer.word_index에 저장되어 있다."
   ]
  },
  {
   "cell_type": "markdown",
   "id": "1a9b29b4",
   "metadata": {},
   "source": [
    "### 등장 빈도수가 낮은 단어들을 훈련 데이터에서 제외하기 위해 통계 정보 확인"
   ]
  },
  {
   "cell_type": "code",
   "execution_count": 49,
   "id": "138c83b8",
   "metadata": {},
   "outputs": [
    {
     "name": "stdout",
     "output_type": "stream",
     "text": [
      "단어 집합(vocabulary)의 크기 : 57225\n",
      "등장 빈도가 6번 이하인 희귀 단어의 수: 39334\n",
      "단어 집합에서 희귀 단어를 제외시킬 경우의 단어 집합의 크기 17891\n",
      "단어 집합에서 희귀 단어의 비율: 68.73569244211446\n",
      "전체 등장 빈도에서 희귀 단어 등장 빈도 비율: 4.529202036200629\n"
     ]
    }
   ],
   "source": [
    "threshold = 7\n",
    "total_cnt = len(src_tokenizer.word_index) # 단어의 수\n",
    "rare_cnt = 0 # 등장 빈도수가 threshold보다 작은 단어의 개수를 카운트\n",
    "total_freq = 0 # 훈련 데이터의 전체 단어 빈도수 총 합\n",
    "rare_freq = 0 # 등장 빈도수가 threshold보다 작은 단어의 등장 빈도수의 총 합\n",
    "\n",
    "# 단어와 빈도수의 쌍(pair)을 key와 value로 받는다.\n",
    "for key, value in src_tokenizer.word_counts.items():\n",
    "    total_freq = total_freq + value\n",
    "\n",
    "    # 단어의 등장 빈도수가 threshold보다 작으면\n",
    "    if(value < threshold):\n",
    "        rare_cnt = rare_cnt + 1\n",
    "        rare_freq = rare_freq + value\n",
    "\n",
    "print('단어 집합(vocabulary)의 크기 :', total_cnt)\n",
    "print('등장 빈도가 %s번 이하인 희귀 단어의 수: %s'%(threshold - 1, rare_cnt))\n",
    "print('단어 집합에서 희귀 단어를 제외시킬 경우의 단어 집합의 크기 %s'%(total_cnt - rare_cnt))\n",
    "print(\"단어 집합에서 희귀 단어의 비율:\", (rare_cnt / total_cnt)*100)\n",
    "print(\"전체 등장 빈도에서 희귀 단어 등장 빈도 비율:\", (rare_freq / total_freq)*100)"
   ]
  },
  {
   "cell_type": "markdown",
   "id": "05de1845",
   "metadata": {},
   "source": [
    "### 등장 빈도가 6회 이하인 단어는 정수 인코딩 과정에서 제외하고 훈련 데이터에서 제거"
   ]
  },
  {
   "cell_type": "code",
   "execution_count": 50,
   "id": "ae309be0",
   "metadata": {},
   "outputs": [
    {
     "name": "stdout",
     "output_type": "stream",
     "text": [
      "=3\n"
     ]
    }
   ],
   "source": [
    "src_vocab = 8000\n",
    "src_tokenizer = Tokenizer(num_words=src_vocab) # 단어 집합의 크기를 8,000으로 제한\n",
    "src_tokenizer.fit_on_texts(encoder_input_train) # 단어 집합 재생성\n",
    "print('=3')"
   ]
  },
  {
   "cell_type": "code",
   "execution_count": 51,
   "id": "3a00d264",
   "metadata": {},
   "outputs": [
    {
     "name": "stdout",
     "output_type": "stream",
     "text": [
      "[[12, 5048, 4120, 862, 1202, 71, 932, 427, 222, 2539, 405, 130, 3942, 1, 7, 2, 14, 35, 213, 116, 416, 82, 593, 226, 737, 3645, 848, 7, 5728, 130], [35, 6673, 627, 2656, 2581, 1635, 538, 769, 164, 77, 673, 937, 4270, 3003, 126, 102, 63, 2124, 3303, 487, 3813, 1, 538, 1604, 476, 363, 3107, 2581, 2609, 5250, 3943], [3646, 36, 788, 8, 1403, 425, 426, 427, 429, 20, 1736, 442, 2241, 3873, 65, 21, 213, 849, 91, 4457, 426, 3077, 4356, 3573, 884, 20, 772, 903, 533, 68]]\n"
     ]
    }
   ],
   "source": [
    "# 텍스트 시퀀스를 정수 시퀀스로 변환\n",
    "encoder_input_train = src_tokenizer.texts_to_sequences(encoder_input_train) \n",
    "encoder_input_test = src_tokenizer.texts_to_sequences(encoder_input_test)\n",
    "\n",
    "# 잘 진행되었는지 샘플 출력\n",
    "print(encoder_input_train[:3])"
   ]
  },
  {
   "cell_type": "markdown",
   "id": "f15bcf82",
   "metadata": {},
   "source": [
    "### Summary 데이터도 동일한 작업 수행"
   ]
  },
  {
   "cell_type": "code",
   "execution_count": 52,
   "id": "8c8551a9",
   "metadata": {},
   "outputs": [
    {
     "name": "stdout",
     "output_type": "stream",
     "text": [
      "=3\n"
     ]
    }
   ],
   "source": [
    "tar_tokenizer = Tokenizer()\n",
    "tar_tokenizer.fit_on_texts(decoder_input_train)\n",
    "print('=3')"
   ]
  },
  {
   "cell_type": "code",
   "execution_count": 53,
   "id": "00b3f381",
   "metadata": {},
   "outputs": [
    {
     "name": "stdout",
     "output_type": "stream",
     "text": [
      "단어 집합(vocabulary)의 크기 : 25861\n",
      "등장 빈도가 5번 이하인 희귀 단어의 수: 17482\n",
      "단어 집합에서 희귀 단어를 제외시킬 경우의 단어 집합의 크기 8379\n",
      "단어 집합에서 희귀 단어의 비율: 67.59986079424615\n",
      "전체 등장 빈도에서 희귀 단어 등장 빈도 비율: 6.520505304054251\n"
     ]
    }
   ],
   "source": [
    "threshold = 6\n",
    "total_cnt = len(tar_tokenizer.word_index) # 단어의 수\n",
    "rare_cnt = 0 # 등장 빈도수가 threshold보다 작은 단어의 개수를 카운트\n",
    "total_freq = 0 # 훈련 데이터의 전체 단어 빈도수 총 합\n",
    "rare_freq = 0 # 등장 빈도수가 threshold보다 작은 단어의 등장 빈도수의 총 합\n",
    "\n",
    "# 단어와 빈도수의 쌍(pair)을 key와 value로 받는다.\n",
    "for key, value in tar_tokenizer.word_counts.items():\n",
    "    total_freq = total_freq + value\n",
    "\n",
    "    # 단어의 등장 빈도수가 threshold보다 작으면\n",
    "    if(value < threshold):\n",
    "        rare_cnt = rare_cnt + 1\n",
    "        rare_freq = rare_freq + value\n",
    "\n",
    "print('단어 집합(vocabulary)의 크기 :', total_cnt)\n",
    "print('등장 빈도가 %s번 이하인 희귀 단어의 수: %s'%(threshold - 1, rare_cnt))\n",
    "print('단어 집합에서 희귀 단어를 제외시킬 경우의 단어 집합의 크기 %s'%(total_cnt - rare_cnt))\n",
    "print(\"단어 집합에서 희귀 단어의 비율:\", (rare_cnt / total_cnt)*100)\n",
    "print(\"전체 등장 빈도에서 희귀 단어 등장 빈도 비율:\", (rare_freq / total_freq)*100)"
   ]
  },
  {
   "cell_type": "code",
   "execution_count": 54,
   "id": "45495e04",
   "metadata": {},
   "outputs": [
    {
     "name": "stdout",
     "output_type": "stream",
     "text": [
      "input\n",
      "input  [[1, 78, 1296, 8, 98, 129, 5, 125], [1, 19, 441, 367, 97, 1822, 6, 1451], [1, 374, 98, 568, 103, 4, 179], [1, 142, 105, 93, 320, 115, 28], [1, 41, 3, 321, 17, 729, 21]]\n",
      "target\n",
      "decoder  [[78, 1296, 8, 98, 129, 5, 125, 2], [19, 441, 367, 97, 1822, 6, 1451, 2], [374, 98, 568, 103, 4, 179, 2], [142, 105, 93, 320, 115, 28, 2], [41, 3, 321, 17, 729, 21, 2]]\n"
     ]
    }
   ],
   "source": [
    "tar_vocab = 2000 # 단어 집합의 크기를 어림잡아 2,000으로 제한\n",
    "tar_tokenizer = Tokenizer(num_words=tar_vocab) \n",
    "tar_tokenizer.fit_on_texts(decoder_input_train)\n",
    "tar_tokenizer.fit_on_texts(decoder_target_train)\n",
    "\n",
    "# 텍스트 시퀀스를 정수 시퀀스로 변환\n",
    "decoder_input_train = tar_tokenizer.texts_to_sequences(decoder_input_train) \n",
    "decoder_target_train = tar_tokenizer.texts_to_sequences(decoder_target_train)\n",
    "decoder_input_test = tar_tokenizer.texts_to_sequences(decoder_input_test)\n",
    "decoder_target_test = tar_tokenizer.texts_to_sequences(decoder_target_test)\n",
    "\n",
    "# 잘 변환되었는지 확인\n",
    "print('input')\n",
    "print('input ',decoder_input_train[:5])\n",
    "print('target')\n",
    "print('decoder ',decoder_target_train[:5])"
   ]
  },
  {
   "cell_type": "markdown",
   "id": "22cfb3a9",
   "metadata": {},
   "source": [
    "다음 과정으로 넘어가기 전에 한가지 점검할 것이 있다. 전체 데이터에서 빈도수가 낮은 단어가 삭제되었다는 것은 빈도수가 낮은 단어만으로 구성되었던 샘플이 텅 빈 샘플이 되었을 가능성이 있다. 원문의 경우 길이가 상대적으로 길었기에 크게 문제가 없겠지만 Summary의 경우엔 이 현상이 두드려졌을 가능성이 높으므로 확인해 보고 삭제하여야 한다. "
   ]
  },
  {
   "cell_type": "markdown",
   "id": "549cf8e5",
   "metadata": {},
   "source": [
    "### Headlines에서 길이가 0이 된 샘플들의 인덱스 받아오기"
   ]
  },
  {
   "cell_type": "code",
   "execution_count": 55,
   "id": "eeef6bec",
   "metadata": {},
   "outputs": [
    {
     "name": "stdout",
     "output_type": "stream",
     "text": [
      "삭제할 훈련 데이터의 개수 : 9\n",
      "삭제할 테스트 데이터의 개수 : 0\n",
      "훈련 데이터의 개수 : 52176\n",
      "훈련 레이블의 개수 : 52176\n",
      "테스트 데이터의 개수 : 13046\n",
      "테스트 레이블의 개수 : 13046\n"
     ]
    }
   ],
   "source": [
    "drop_train = [index for index, sentence in enumerate(decoder_input_train) if len(sentence) == 1]\n",
    "drop_test = [index for index, sentence in enumerate(decoder_input_test) if len(sentence) == 1]\n",
    "\n",
    "print('삭제할 훈련 데이터의 개수 :', len(drop_train))\n",
    "print('삭제할 테스트 데이터의 개수 :', len(drop_test))\n",
    "\n",
    "encoder_input_train = [sentence for index, sentence in enumerate(encoder_input_train) if index not in drop_train]\n",
    "decoder_input_train = [sentence for index, sentence in enumerate(decoder_input_train) if index not in drop_train]\n",
    "decoder_target_train = [sentence for index, sentence in enumerate(decoder_target_train) if index not in drop_train]\n",
    "\n",
    "encoder_input_test = [sentence for index, sentence in enumerate(encoder_input_test) if index not in drop_test]\n",
    "decoder_input_test = [sentence for index, sentence in enumerate(decoder_input_test) if index not in drop_test]\n",
    "decoder_target_test = [sentence for index, sentence in enumerate(decoder_target_test) if index not in drop_test]\n",
    "\n",
    "print('훈련 데이터의 개수 :', len(encoder_input_train))\n",
    "print('훈련 레이블의 개수 :', len(decoder_input_train))\n",
    "print('테스트 데이터의 개수 :', len(encoder_input_test))\n",
    "print('테스트 레이블의 개수 :', len(decoder_input_test))"
   ]
  },
  {
   "cell_type": "markdown",
   "id": "c567b7b6",
   "metadata": {},
   "source": [
    "길이가 0이 된 요약문의 실제 길이는 시작, 종료 토큰이 들어가있으므로 1로 표시가 된다. 따라서 길이가 1인 Summary는 학습에 도움되지 않는 데이터이므로 삭제시켜 준다. "
   ]
  },
  {
   "cell_type": "markdown",
   "id": "f934fc4b",
   "metadata": {},
   "source": [
    "### 샘플들의 길이를 맞추기 위해 패딩 작업하기 "
   ]
  },
  {
   "cell_type": "code",
   "execution_count": 57,
   "id": "301e5b4a",
   "metadata": {},
   "outputs": [
    {
     "name": "stdout",
     "output_type": "stream",
     "text": [
      "=3\n"
     ]
    }
   ],
   "source": [
    "encoder_input_train = pad_sequences(encoder_input_train, maxlen=text_max_len, padding='post')\n",
    "encoder_input_test = pad_sequences(encoder_input_test, maxlen=text_max_len, padding='post')\n",
    "decoder_input_train = pad_sequences(decoder_input_train, maxlen=headlines_max_len, padding='post')\n",
    "decoder_target_train = pad_sequences(decoder_target_train, maxlen=headlines_max_len, padding='post')\n",
    "decoder_input_test = pad_sequences(decoder_input_test, maxlen=headlines_max_len, padding='post')\n",
    "decoder_target_test = pad_sequences(decoder_target_test, maxlen=headlines_max_len, padding='post')\n",
    "print('=3')"
   ]
  },
  {
   "cell_type": "markdown",
   "id": "fc0e8149",
   "metadata": {},
   "source": [
    "길었던 데이터 전처리의 과정이 끝났고 이제 학습을 진행할 모델을 설계한다. "
   ]
  },
  {
   "cell_type": "markdown",
   "id": "a015f38d",
   "metadata": {},
   "source": [
    "## 3. 모델 설계"
   ]
  },
  {
   "cell_type": "markdown",
   "id": "4e6e0b87",
   "metadata": {},
   "source": [
    "### 함수형 API를 이용하여 인코더 설계하기 "
   ]
  },
  {
   "cell_type": "code",
   "execution_count": 58,
   "id": "7cdcba80",
   "metadata": {},
   "outputs": [
    {
     "name": "stdout",
     "output_type": "stream",
     "text": [
      "WARNING:tensorflow:Layer lstm will not use cuDNN kernels since it doesn't meet the criteria. It will use a generic GPU kernel as fallback when running on GPU.\n",
      "WARNING:tensorflow:Layer lstm_1 will not use cuDNN kernels since it doesn't meet the criteria. It will use a generic GPU kernel as fallback when running on GPU.\n",
      "WARNING:tensorflow:Layer lstm_2 will not use cuDNN kernels since it doesn't meet the criteria. It will use a generic GPU kernel as fallback when running on GPU.\n"
     ]
    }
   ],
   "source": [
    "from tensorflow.keras.layers import Input, LSTM, Embedding, Dense, Concatenate, TimeDistributed\n",
    "from tensorflow.keras.models import Model\n",
    "from tensorflow.keras.callbacks import EarlyStopping, ModelCheckpoint\n",
    "\n",
    "\n",
    "# 인코더 설계 시작\n",
    "embedding_dim = 128 # 임베딩 벡터의 차원\n",
    "hidden_size = 256 # LSTM에서 가지는 수용력 / LSTM에서의 뉴런의 개수\n",
    "\n",
    "# 인코더\n",
    "encoder_inputs = Input(shape=(text_max_len,))\n",
    "\n",
    "# 인코더의 임베딩 층\n",
    "enc_emb = Embedding(src_vocab, embedding_dim)(encoder_inputs)\n",
    "\n",
    "# 인코더의 LSTM 1\n",
    "encoder_lstm1 = LSTM(hidden_size, return_sequences=True, return_state=True ,dropout = 0.4, recurrent_dropout = 0.4)\n",
    "encoder_output1, state_h1, state_c1 = encoder_lstm1(enc_emb)\n",
    "\n",
    "# 인코더의 LSTM 2\n",
    "encoder_lstm2 = LSTM(hidden_size, return_sequences=True, return_state=True, dropout=0.4, recurrent_dropout=0.4)\n",
    "encoder_output2, state_h2, state_c2 = encoder_lstm2(encoder_output1)\n",
    "\n",
    "# 인코더의 LSTM 3\n",
    "encoder_lstm3 = LSTM(hidden_size, return_state=True, return_sequences=True, dropout=0.4, recurrent_dropout=0.4)\n",
    "encoder_outputs, state_h, state_c= encoder_lstm3(encoder_output2)"
   ]
  },
  {
   "cell_type": "markdown",
   "id": "2d40418c",
   "metadata": {},
   "source": [
    "### 디코더 설계"
   ]
  },
  {
   "cell_type": "code",
   "execution_count": 59,
   "id": "9e7533a2",
   "metadata": {},
   "outputs": [
    {
     "name": "stdout",
     "output_type": "stream",
     "text": [
      "WARNING:tensorflow:Layer lstm_3 will not use cuDNN kernels since it doesn't meet the criteria. It will use a generic GPU kernel as fallback when running on GPU.\n"
     ]
    }
   ],
   "source": [
    "# 디코더 설계\n",
    "decoder_inputs = Input(shape=(None,))\n",
    "\n",
    "# 디코더의 임베딩 층\n",
    "dec_emb_layer = Embedding(tar_vocab, embedding_dim)\n",
    "dec_emb = dec_emb_layer(decoder_inputs)\n",
    "\n",
    "# 디코더의 LSTM\n",
    "decoder_lstm = LSTM(hidden_size, return_sequences=True, return_state=True, dropout=0.4, recurrent_dropout=0.2)\n",
    "decoder_outputs, _, _ = decoder_lstm(dec_emb, initial_state=[state_h, state_c])"
   ]
  },
  {
   "cell_type": "markdown",
   "id": "f97739bb",
   "metadata": {},
   "source": [
    "인코더와 거의 동일하게 디코더를 설계하지만 디코더의 경우 인자값으로 hidden state와 cell state의 값을 넣어줘야 한다. "
   ]
  },
  {
   "cell_type": "markdown",
   "id": "39152647",
   "metadata": {},
   "source": [
    "### 디코더의 출력층 설계 "
   ]
  },
  {
   "cell_type": "code",
   "execution_count": 60,
   "id": "15b2769f",
   "metadata": {},
   "outputs": [
    {
     "name": "stdout",
     "output_type": "stream",
     "text": [
      "Model: \"model\"\n",
      "__________________________________________________________________________________________________\n",
      "Layer (type)                    Output Shape         Param #     Connected to                     \n",
      "==================================================================================================\n",
      "input_1 (InputLayer)            [(None, 38)]         0                                            \n",
      "__________________________________________________________________________________________________\n",
      "embedding (Embedding)           (None, 38, 128)      1024000     input_1[0][0]                    \n",
      "__________________________________________________________________________________________________\n",
      "lstm (LSTM)                     [(None, 38, 256), (N 394240      embedding[0][0]                  \n",
      "__________________________________________________________________________________________________\n",
      "input_2 (InputLayer)            [(None, None)]       0                                            \n",
      "__________________________________________________________________________________________________\n",
      "lstm_1 (LSTM)                   [(None, 38, 256), (N 525312      lstm[0][0]                       \n",
      "__________________________________________________________________________________________________\n",
      "embedding_1 (Embedding)         (None, None, 128)    256000      input_2[0][0]                    \n",
      "__________________________________________________________________________________________________\n",
      "lstm_2 (LSTM)                   [(None, 38, 256), (N 525312      lstm_1[0][0]                     \n",
      "__________________________________________________________________________________________________\n",
      "lstm_3 (LSTM)                   [(None, None, 256),  394240      embedding_1[0][0]                \n",
      "                                                                 lstm_2[0][1]                     \n",
      "                                                                 lstm_2[0][2]                     \n",
      "__________________________________________________________________________________________________\n",
      "dense (Dense)                   (None, None, 2000)   514000      lstm_3[0][0]                     \n",
      "==================================================================================================\n",
      "Total params: 3,633,104\n",
      "Trainable params: 3,633,104\n",
      "Non-trainable params: 0\n",
      "__________________________________________________________________________________________________\n"
     ]
    }
   ],
   "source": [
    "# 디코더의 출력층\n",
    "decoder_softmax_layer = Dense(tar_vocab, activation='softmax')\n",
    "decoder_softmax_outputs = decoder_softmax_layer(decoder_outputs) \n",
    "\n",
    "# 모델 정의\n",
    "model = Model([encoder_inputs, decoder_inputs], decoder_softmax_outputs)\n",
    "model.summary()"
   ]
  },
  {
   "cell_type": "markdown",
   "id": "7e3a8a48",
   "metadata": {},
   "source": [
    "여기서 그대로 모델을 사용해도 좋지만 디코더의 출력층 설계를 살짝 바꿔서 더욱 성능을 높일 수 있도록 어텐션 메커니즘을 이용한다. "
   ]
  },
  {
   "cell_type": "markdown",
   "id": "e27dab0d",
   "metadata": {},
   "source": [
    "### 어텐션 층을 만들고 디코더 출력층 수정하기"
   ]
  },
  {
   "cell_type": "code",
   "execution_count": 61,
   "id": "85080a8c",
   "metadata": {},
   "outputs": [
    {
     "name": "stdout",
     "output_type": "stream",
     "text": [
      "Model: \"model_1\"\n",
      "__________________________________________________________________________________________________\n",
      "Layer (type)                    Output Shape         Param #     Connected to                     \n",
      "==================================================================================================\n",
      "input_1 (InputLayer)            [(None, 38)]         0                                            \n",
      "__________________________________________________________________________________________________\n",
      "embedding (Embedding)           (None, 38, 128)      1024000     input_1[0][0]                    \n",
      "__________________________________________________________________________________________________\n",
      "lstm (LSTM)                     [(None, 38, 256), (N 394240      embedding[0][0]                  \n",
      "__________________________________________________________________________________________________\n",
      "input_2 (InputLayer)            [(None, None)]       0                                            \n",
      "__________________________________________________________________________________________________\n",
      "lstm_1 (LSTM)                   [(None, 38, 256), (N 525312      lstm[0][0]                       \n",
      "__________________________________________________________________________________________________\n",
      "embedding_1 (Embedding)         (None, None, 128)    256000      input_2[0][0]                    \n",
      "__________________________________________________________________________________________________\n",
      "lstm_2 (LSTM)                   [(None, 38, 256), (N 525312      lstm_1[0][0]                     \n",
      "__________________________________________________________________________________________________\n",
      "lstm_3 (LSTM)                   [(None, None, 256),  394240      embedding_1[0][0]                \n",
      "                                                                 lstm_2[0][1]                     \n",
      "                                                                 lstm_2[0][2]                     \n",
      "__________________________________________________________________________________________________\n",
      "attention_layer (AdditiveAttent (None, None, 256)    256         lstm_3[0][0]                     \n",
      "                                                                 lstm_2[0][0]                     \n",
      "__________________________________________________________________________________________________\n",
      "concat_layer (Concatenate)      (None, None, 512)    0           lstm_3[0][0]                     \n",
      "                                                                 attention_layer[0][0]            \n",
      "__________________________________________________________________________________________________\n",
      "dense_1 (Dense)                 (None, None, 2000)   1026000     concat_layer[0][0]               \n",
      "==================================================================================================\n",
      "Total params: 4,145,360\n",
      "Trainable params: 4,145,360\n",
      "Non-trainable params: 0\n",
      "__________________________________________________________________________________________________\n"
     ]
    }
   ],
   "source": [
    "from tensorflow.keras.layers import AdditiveAttention\n",
    "\n",
    "# 어텐션 층(어텐션 함수)\n",
    "attn_layer = AdditiveAttention(name='attention_layer')\n",
    "\n",
    "# 인코더와 디코더의 모든 time step의 hidden state를 어텐션 층에 전달하고 결과를 리턴\n",
    "attn_out = attn_layer([decoder_outputs, encoder_outputs])\n",
    "\n",
    "\n",
    "# 어텐션의 결과와 디코더의 hidden state들을 연결\n",
    "decoder_concat_input = Concatenate(axis=-1, name='concat_layer')([decoder_outputs, attn_out])\n",
    "\n",
    "# 디코더의 출력층\n",
    "decoder_softmax_layer = Dense(tar_vocab, activation='softmax')\n",
    "decoder_softmax_outputs = decoder_softmax_layer(decoder_concat_input)\n",
    "\n",
    "# 모델 정의\n",
    "model = Model([encoder_inputs, decoder_inputs], decoder_softmax_outputs)\n",
    "model.summary()"
   ]
  },
  {
   "cell_type": "markdown",
   "id": "9cdcdba5",
   "metadata": {},
   "source": [
    "## 4. 모델 학습"
   ]
  },
  {
   "cell_type": "code",
   "execution_count": 62,
   "id": "c0024172",
   "metadata": {},
   "outputs": [
    {
     "name": "stdout",
     "output_type": "stream",
     "text": [
      "Epoch 1/50\n",
      "204/204 [==============================] - 124s 524ms/step - loss: 4.4778 - val_loss: 4.1521\n",
      "Epoch 2/50\n",
      "204/204 [==============================] - 106s 518ms/step - loss: 4.0661 - val_loss: 3.8877\n",
      "Epoch 3/50\n",
      "204/204 [==============================] - 105s 513ms/step - loss: 3.7982 - val_loss: 3.6543\n",
      "Epoch 4/50\n",
      "204/204 [==============================] - 104s 512ms/step - loss: 3.5759 - val_loss: 3.4911\n",
      "Epoch 5/50\n",
      "204/204 [==============================] - 104s 511ms/step - loss: 3.4146 - val_loss: 3.3760\n",
      "Epoch 6/50\n",
      "204/204 [==============================] - 104s 509ms/step - loss: 3.2754 - val_loss: 3.2745\n",
      "Epoch 7/50\n",
      "204/204 [==============================] - 104s 511ms/step - loss: 3.1583 - val_loss: 3.1922\n",
      "Epoch 8/50\n",
      "204/204 [==============================] - 104s 510ms/step - loss: 3.0546 - val_loss: 3.1208\n",
      "Epoch 9/50\n",
      "204/204 [==============================] - 104s 510ms/step - loss: 2.9645 - val_loss: 3.0729\n",
      "Epoch 10/50\n",
      "204/204 [==============================] - 103s 506ms/step - loss: 2.8816 - val_loss: 3.0324\n",
      "Epoch 11/50\n",
      "204/204 [==============================] - 104s 510ms/step - loss: 2.8089 - val_loss: 2.9949\n",
      "Epoch 12/50\n",
      "204/204 [==============================] - 104s 512ms/step - loss: 2.7416 - val_loss: 2.9609\n",
      "Epoch 13/50\n",
      "204/204 [==============================] - 104s 509ms/step - loss: 2.6804 - val_loss: 2.9400\n",
      "Epoch 14/50\n",
      "204/204 [==============================] - 104s 511ms/step - loss: 2.6232 - val_loss: 2.9177\n",
      "Epoch 15/50\n",
      "204/204 [==============================] - 104s 510ms/step - loss: 2.5720 - val_loss: 2.9027\n",
      "Epoch 16/50\n",
      "204/204 [==============================] - 104s 511ms/step - loss: 2.5236 - val_loss: 2.8852\n",
      "Epoch 17/50\n",
      "204/204 [==============================] - 105s 512ms/step - loss: 2.4783 - val_loss: 2.8772\n",
      "Epoch 18/50\n",
      "204/204 [==============================] - 105s 514ms/step - loss: 2.4344 - val_loss: 2.8713\n",
      "Epoch 19/50\n",
      "204/204 [==============================] - 106s 521ms/step - loss: 2.3951 - val_loss: 2.8576\n",
      "Epoch 20/50\n",
      "204/204 [==============================] - 104s 510ms/step - loss: 2.3576 - val_loss: 2.8577\n",
      "Epoch 21/50\n",
      "204/204 [==============================] - 104s 509ms/step - loss: 2.3216 - val_loss: 2.8567\n",
      "Epoch 22/50\n",
      "204/204 [==============================] - 104s 509ms/step - loss: 2.2883 - val_loss: 2.8581\n",
      "Epoch 23/50\n",
      "204/204 [==============================] - 104s 509ms/step - loss: 2.2569 - val_loss: 2.8487\n",
      "Epoch 24/50\n",
      "204/204 [==============================] - 103s 506ms/step - loss: 2.2257 - val_loss: 2.8560\n",
      "Epoch 25/50\n",
      "204/204 [==============================] - 105s 513ms/step - loss: 2.1959 - val_loss: 2.8548\n",
      "Epoch 00025: early stopping\n"
     ]
    }
   ],
   "source": [
    "model.compile(optimizer='rmsprop', loss='sparse_categorical_crossentropy')\n",
    "es = EarlyStopping(monitor='val_loss', patience=2, verbose=1)\n",
    "history = model.fit(x=[encoder_input_train, decoder_input_train], y=decoder_target_train, \\\n",
    "          validation_data=([encoder_input_test, decoder_input_test], decoder_target_test), \\\n",
    "          batch_size=256, callbacks=[es], epochs=50)"
   ]
  },
  {
   "cell_type": "markdown",
   "id": "1b298691",
   "metadata": {},
   "source": [
    "val_loss가 줄어들지 않고 증가하는 현상이 2회 관찰되면 학습이 멈추도록 설정되어 있다. 따라서 학습이 멈춘 지금 시점에서 W값이 최적점이라 할 수 있다. 이 과정을 시각화해서 확인해본다. "
   ]
  },
  {
   "cell_type": "markdown",
   "id": "b4a2bdf7",
   "metadata": {},
   "source": [
    "### 훈련 데이터와 검증 데이터의 손실치 시각화하여 확인"
   ]
  },
  {
   "cell_type": "code",
   "execution_count": 63,
   "id": "99d0f436",
   "metadata": {},
   "outputs": [
    {
     "data": {
      "image/png": "[encoded data removed]",
      "text/plain": [
       "<Figure size 432x288 with 1 Axes>"
      ]
     },
     "metadata": {
      "needs_background": "light"
     },
     "output_type": "display_data"
    }
   ],
   "source": [
    "plt.plot(history.history['loss'], label='train')\n",
    "plt.plot(history.history['val_loss'], label='test')\n",
    "plt.legend()\n",
    "plt.show()"
   ]
  },
  {
   "cell_type": "markdown",
   "id": "a0bfc4d7",
   "metadata": {},
   "source": [
    "## 5. 모델 테스트 준비"
   ]
  },
  {
   "cell_type": "markdown",
   "id": "813a9b12",
   "metadata": {},
   "source": [
    "### 인퍼런스 모델 구현하기\n",
    "테스트 단계에서는 실제로 텍스트를 구현해야 하기때문에 정수로 존재하는 행렬 데이터를 다시 텍스트 데이터로 복원해야 한다. 이를 위해 필요한 3개의 단어 사전을 미리 준비한다. "
   ]
  },
  {
   "cell_type": "code",
   "execution_count": 64,
   "id": "672580e9",
   "metadata": {},
   "outputs": [
    {
     "name": "stdout",
     "output_type": "stream",
     "text": [
      "=3\n"
     ]
    }
   ],
   "source": [
    "src_index_to_word = src_tokenizer.index_word # 원문 단어 집합에서 정수 -> 단어를 얻음\n",
    "tar_word_to_index = tar_tokenizer.word_index # 요약 단어 집합에서 단어 -> 정수를 얻음\n",
    "tar_index_to_word = tar_tokenizer.index_word # 요약 단어 집합에서 정수 -> 단어를 얻음\n",
    "\n",
    "print('=3')"
   ]
  },
  {
   "cell_type": "markdown",
   "id": "ecb561c9",
   "metadata": {},
   "source": [
    "### 인코더와 디코더 모델을 분리하여 인퍼런스 설계\n",
    "학습에 사용한 seq2seq 모델은 훈련할 때와 실제 동작할때(인퍼런스 단계)의 방식이 다르므로 모델 설계를 별개로 진행해야 한다. 따라서 인코더 모델과 디코더 모델을 분리하여 설계한다. "
   ]
  },
  {
   "cell_type": "code",
   "execution_count": 65,
   "id": "5a531674",
   "metadata": {},
   "outputs": [
    {
     "name": "stdout",
     "output_type": "stream",
     "text": [
      "=3\n"
     ]
    }
   ],
   "source": [
    "# 인코더 설계\n",
    "encoder_model = Model(inputs=encoder_inputs, outputs=[encoder_outputs, state_h, state_c])\n",
    "\n",
    "# 이전 시점의 상태들을 저장하는 텐서\n",
    "decoder_state_input_h = Input(shape=(hidden_size,))\n",
    "decoder_state_input_c = Input(shape=(hidden_size,))\n",
    "\n",
    "dec_emb2 = dec_emb_layer(decoder_inputs)\n",
    "\n",
    "# 문장의 다음 단어를 예측하기 위해서 초기 상태(initial_state)를 이전 시점의 상태로 사용. 이는 뒤의 함수 decode_sequence()에 구현\n",
    "# 훈련 과정에서와 달리 LSTM의 리턴하는 은닉 상태와 셀 상태인 state_h와 state_c를 버리지 않음.\n",
    "decoder_outputs2, state_h2, state_c2 = decoder_lstm(dec_emb2, initial_state=[decoder_state_input_h, decoder_state_input_c])\n",
    "\n",
    "print('=3')"
   ]
  },
  {
   "cell_type": "markdown",
   "id": "b92e6c25",
   "metadata": {},
   "source": [
    "### 어텐션 메커니즘을 사용하는 출력층 설계"
   ]
  },
  {
   "cell_type": "code",
   "execution_count": 66,
   "id": "6d56f7ac",
   "metadata": {},
   "outputs": [
    {
     "name": "stdout",
     "output_type": "stream",
     "text": [
      "=3\n"
     ]
    }
   ],
   "source": [
    "# 어텐션 함수\n",
    "decoder_hidden_state_input = Input(shape=(text_max_len, hidden_size))\n",
    "attn_out_inf = attn_layer([decoder_outputs2, decoder_hidden_state_input])\n",
    "decoder_inf_concat = Concatenate(axis=-1, name='concat')([decoder_outputs2, attn_out_inf])\n",
    "\n",
    "# 디코더의 출력층\n",
    "decoder_outputs2 = decoder_softmax_layer(decoder_inf_concat) \n",
    "\n",
    "# 최종 디코더 모델\n",
    "decoder_model = Model(\n",
    "    [decoder_inputs] + [decoder_hidden_state_input,decoder_state_input_h, decoder_state_input_c],\n",
    "    [decoder_outputs2] + [state_h2, state_c2])\n",
    "\n",
    "print('=3')"
   ]
  },
  {
   "cell_type": "markdown",
   "id": "41f5fb5c",
   "metadata": {},
   "source": [
    "### 단어 시퀀스를 완성하는 함수 제작"
   ]
  },
  {
   "cell_type": "code",
   "execution_count": 70,
   "id": "f8c08136",
   "metadata": {},
   "outputs": [
    {
     "name": "stdout",
     "output_type": "stream",
     "text": [
      "=3\n"
     ]
    }
   ],
   "source": [
    "def decode_sequence(input_seq):\n",
    "    # 입력으로부터 인코더의 상태를 얻음\n",
    "    e_out, e_h, e_c = encoder_model.predict(input_seq)\n",
    "\n",
    "     # <SOS>에 해당하는 토큰 생성\n",
    "    target_seq = np.zeros((1,1))\n",
    "    target_seq[0, 0] = tar_word_to_index['sostoken']\n",
    "\n",
    "    stop_condition = False\n",
    "    decoded_sentence = ''\n",
    "    while not stop_condition: # stop_condition이 True가 될 때까지 루프 반복\n",
    "\n",
    "        output_tokens, h, c = decoder_model.predict([target_seq] + [e_out, e_h, e_c])\n",
    "        sampled_token_index = np.argmax(output_tokens[0, -1, :])\n",
    "        sampled_token = tar_index_to_word[sampled_token_index]\n",
    "\n",
    "        if (sampled_token!='eostoken'):\n",
    "            decoded_sentence += ' '+sampled_token\n",
    "\n",
    "        #  <eos>에 도달하거나 최대 길이를 넘으면 중단.\n",
    "        if (sampled_token == 'eostoken'  or len(decoded_sentence.split()) >= (headlines_max_len-1)):\n",
    "            stop_condition = True\n",
    "\n",
    "        # 길이가 1인 타겟 시퀀스를 업데이트\n",
    "        target_seq = np.zeros((1,1))\n",
    "        target_seq[0, 0] = sampled_token_index\n",
    "\n",
    "        # 상태를 업데이트 합니다.\n",
    "        e_h, e_c = h, c\n",
    "\n",
    "    return decoded_sentence\n",
    "print('=3')"
   ]
  },
  {
   "cell_type": "markdown",
   "id": "69e058ed",
   "metadata": {},
   "source": [
    "## 6. 모델 성능 평가\n",
    "정수 시퀀스를 텍스트 시퀀스로 변환하여 결과를 확인한다. "
   ]
  },
  {
   "cell_type": "markdown",
   "id": "2ce7827d",
   "metadata": {},
   "source": [
    "### 정수 시퀀스를 텍스트 시퀀스로 변환하는 함수 작성"
   ]
  },
  {
   "cell_type": "code",
   "execution_count": 71,
   "id": "63745f6b",
   "metadata": {},
   "outputs": [
    {
     "name": "stdout",
     "output_type": "stream",
     "text": [
      "=3\n"
     ]
    }
   ],
   "source": [
    "# 원문의 정수 시퀀스를 텍스트 시퀀스로 변환\n",
    "def seq2text(input_seq):\n",
    "    temp=''\n",
    "    for i in input_seq:\n",
    "        if (i!=0):\n",
    "            temp = temp + src_index_to_word[i]+' '\n",
    "    return temp\n",
    "\n",
    "# 요약문의 정수 시퀀스를 텍스트 시퀀스로 변환\n",
    "def seq2summary(input_seq):\n",
    "    temp=''\n",
    "    for i in input_seq:\n",
    "        if ((i!=0 and i!=tar_word_to_index['sostoken']) and i!=tar_word_to_index['eostoken']):\n",
    "            temp = temp + tar_index_to_word[i] + ' '\n",
    "    return temp\n",
    "\n",
    "print('=3')"
   ]
  },
  {
   "cell_type": "markdown",
   "id": "c7be2f8f",
   "metadata": {},
   "source": [
    "### 테스트 샘플 출력"
   ]
  },
  {
   "cell_type": "code",
   "execution_count": 72,
   "id": "d83838bf",
   "metadata": {},
   "outputs": [
    {
     "name": "stdout",
     "output_type": "stream",
     "text": [
      "원문 : reacting indian wicketkeeper rishabh pant instagram video seen performing indian spinner chahal commented apollo se offer hai seen video responding comment year old delhi cricketer wrote yes joining \n",
      "실제 요약 : offer hai on \n",
      "예측 요약 :  video shows india dancing viral video goes viral\n",
      "\n",
      "\n",
      "원문 : microsoft ceo satya nadella recent event called technology companies protect users data said us treat privacy human right talking cyber threats nadella also said companies use power protect common citizens small businesses speaking microsoft future conference london \n",
      "실제 요약 : we need to as human right microsoft ceo \n",
      "예측 요약 :  microsoft ceo to use of microsoft\n",
      "\n",
      "\n",
      "원문 : egyptian court saturday sentenced death members banned muslim group anti government protests concluded mass trial people took part sit organised support former president mohamed people reportedly killed security forces crackdown protests \n",
      "실제 요약 : muslim members sentenced to death in egypt \n",
      "예측 요약 :  muslim muslim muslim body to muslim\n",
      "\n",
      "\n",
      "원문 : director vivek issued legal notice initiate defamation action actress tanushree dutta claimed allegations harassment false allegations borne attract publicity personal client said vivek lawyer \n",
      "실제 요약 : tanushree allegations false made to director \n",
      "예측 요약 :  sends notice to tanushree in defamation case\n",
      "\n",
      "\n",
      "원문 : museum dedicated drug lord shut authorities city museum owned brother operating illegally tourism licence museum part offered taking tourists places associated \n",
      "실제 요약 : museum shut down in \n",
      "예측 요약 :  video shows of in\n",
      "\n",
      "\n",
      "원문 : actor smith shared pictures social media reveal cut son role upcoming film life year getting smith ready first day filming maybe used wrote alongside photos star romantic drama film \n",
      "실제 요약 : will smith cuts off son hair for film role \n",
      "예측 요약 :  ayushmann shares pic with\n",
      "\n",
      "\n",
      "원문 : speaking inauguration centre ahmedabad israeli prime minister benjamin netanyahu said jai jai bharat jai israel thank prime minister modi thank added world knows one world needs know \n",
      "실제 요약 : bharat israel israeli pm \n",
      "예측 요약 :  pm modi is to israel pm modi\n",
      "\n",
      "\n",
      "원문 : us cloud company overtook tesla take top spot forbes list world companies ranked second past two consecutive years earlier held top spot list notably amazon jumped eight spots come third place list \n",
      "실제 요약 : beats tesla as world most company \n",
      "예측 요약 :  tesla named world most brand model\n",
      "\n",
      "\n",
      "원문 : government ongc rather give away producing oil gas fields private firms company executives said would give government enough revenue meet disinvestment target bring efficient private sector management added notably government planning give away fields raise output \n",
      "실제 요약 : do not sell off oil company officials \n",
      "예측 요약 :  govt may allow to foreign loans\n",
      "\n",
      "\n",
      "원문 : telecom regulator trai directed idea cellular deposit nearly crore subscribers making calls bsnl networks trai penalised idea found levied tariffs four states period may january idea instructed report compliance within days direction \n",
      "실제 요약 : asks idea to crore for customers \n",
      "예측 요약 :  to face mn to\n",
      "\n",
      "\n",
      "원문 : amazon million amazon retail india food retail business country according filings february year amazon became first foreign commerce firm start food retail venture india services pune earlier reports said amazon planned invest million food segment \n",
      "실제 요약 : amazon invests million in its indian food \n",
      "예측 요약 :  amazon invests billion in amazon amazon\n",
      "\n",
      "\n",
      "원문 : many children fell ill due food poisoning consuming district bihar saturday police said taken primary health centre complained police added children danger \n",
      "실제 요약 : children fall ill after eating food in bihar \n",
      "예측 요약 :  kids fall ill after being in bihar\n",
      "\n",
      "\n",
      "원문 : court andhra pradesh sentenced year old death finding guilty murdering four people would target houses easy commit murder rob victims flee police officials said court observed crimes fell rare category \n",
      "실제 요약 : andhra who to death to be \n",
      "예측 요약 :  andhra judge sentenced to death in case\n",
      "\n",
      "\n",
      "원문 : kerala police said affidavit nun rape case state high court preliminary investigations revealed bishop raped nun multiple times said accused bishop abused committed offence rape repeatedly may september \n",
      "실제 요약 : raped kerala times police to kerala hc \n",
      "예측 요약 :  rape accused in kerala hc\n",
      "\n",
      "\n",
      "원문 : north korea sunday claimed tested advanced hydrogen bomb capable intercontinental ballistic missile marking sixth nuclear test test hailed perfect success estimated four five times stronger nuclear bomb dropped \n",
      "실제 요약 : north korea bomb test its th nuclear test \n",
      "예측 요약 :  korea test missile test test\n",
      "\n",
      "\n",
      "원문 : forward scored twice manchester united defeated premier league sunday registering first victory lost two successive matches united paul failed convert penalty th minute forward come sent violent conduct st minute \n",
      "실제 요약 : scores as man man defeat \n",
      "예측 요약 :  year old scores in league\n",
      "\n",
      "\n",
      "원문 : speaking minutes unhurt shot unknown jnu activist umar khalid monday said happened veteran journalist gauri lankesh added scared moment man pointed gun lankesh shot dead outside house bengaluru \n",
      "실제 요약 : was of murder on being attacked \n",
      "예측 요약 :  the journalist was not\n",
      "\n",
      "\n",
      "원문 : india world cup winning team members sachin tendulkar virender sehwag tweeted team victory sixth anniversary sunday chase dreams dreams come true one moments happened tweeted sachin dhoni finished style team lived dream best memory generation wrote sehwag \n",
      "실제 요약 : sachin sehwag tweet about india world cup \n",
      "예측 요약 :  sehwag sehwag wishes his th birthday\n",
      "\n",
      "\n",
      "원문 : five people hospitalised part ceiling indian restaurant england collapsed fell said police several lifted ceiling people claimed management whether fine however assistant manager said management busy talking emergency crew \n",
      "실제 요약 : falls on at indian in uk injured \n",
      "예측 요약 :  in pictures in up in days\n",
      "\n",
      "\n",
      "원문 : parliamentary panel said reserve bank india norms banks asked rbi ease rules capital requirements banks order increase lending comes government rbi board members called capital requirements boost credit economic growth \n",
      "실제 요약 : rbi for our banks mps panel \n",
      "예측 요약 :  rbi seeks to banks on banks\n",
      "\n",
      "\n",
      "원문 : actress recently featured accused producer physical abuse sharing pictures facebook last one year abuse took came fractured soul life wrote claimed happened valentine day dating \n",
      "실제 요약 : actress accuses producer of abuse shares pic \n",
      "예측 요약 :  actress accuses of her\n",
      "\n",
      "\n",
      "원문 : digital payments india cash non digital payments according report international data corporation contribution digital payment mobile banking reportedly expected grow november national payments corporation india said digital transactions times since demonetisation \n",
      "실제 요약 : digital payments in india to cash by report \n",
      "예측 요약 :  paytm payments payments payments\n",
      "\n",
      "\n",
      "원문 : actor ayushmann khurrana wife kashyap took instagram reveal diagnosed stage cancer going sessions another left added wrote post dedicated journey half battle half want fight \n",
      "실제 요약 : ayushmann wife with stage cancer \n",
      "예측 요약 :  ayushmann shares picture with him\n",
      "\n",
      "\n",
      "원문 : inaugural world test league championship played top nine test sides two years starting world cup team play six series three home three away minimum two tests maximum five series final played top two teams \n",
      "실제 요약 : how will icc new world test league be played \n",
      "예측 요약 :  england to play world cup final after years\n",
      "\n",
      "\n",
      "원문 : actor aamir khan today unveiled first look poster upcoming film secret superstar zaira wasim played aamir daughter dangal stars female lead year old girl vadodara dreams becoming singer directed film set diwali release \n",
      "실제 요약 : aamir khan unveils first look poster of secret \n",
      "예측 요약 :  look from khan unveiled\n",
      "\n",
      "\n",
      "원문 : charge india afghanistan formed pakistan reportedly asked us help break alleged alliance regional peace adding us concerned recent pakistan afghanistan firing incident pakistani officials alleged india trying disrupt us peace efforts two countries \n",
      "실제 요약 : pakistan seeks us help to break afghanistan india \n",
      "예측 요약 :  india us envoy to india over terror attacks\n",
      "\n",
      "\n",
      "원문 : uk national allegedly sexually molested two bike borne men rajasthan jodhpur thursday police said woman molested returning hostel two men motorcycle grabbed incident shocked police tracking culprits using cctv footage victim said \n",
      "실제 요약 : uk national by bike men in rajasthan \n",
      "예측 요약 :  uk female sexual assault victim\n",
      "\n",
      "\n",
      "원문 : christian michel alleged helicopter deal reportedly suffered attack reached cbi headquarters doctors called attend treatment year old questioned money trail identification documents later produced court sent five days custody \n",
      "실제 요약 : got attack at cbi office report \n",
      "예측 요약 :  turkey police arrest for days\n",
      "\n",
      "\n",
      "원문 : india council technical education wednesday said engineering students study yoga revised curriculum next academic session modified course also focus indian traditions officials said universities asked update curriculum every year added \n",
      "실제 요약 : students to study under new \n",
      "예측 요약 :  india to be in schools\n",
      "\n",
      "\n",
      "원문 : india muslim personal law board said babri masjid remain mosque forever shifted board rejected possibility court settlement land dispute recently expelled member met sri sri ravi shankar possible settlement suggested babri masjid \n",
      "실제 요약 : will remain mosque muslim body \n",
      "예측 요약 :  law minister seeks to\n",
      "\n",
      "\n",
      "원문 : high level committee union home minister rajnath singh monday approved additional assistance crore national disaster response fund tamil nadu affected cyclone recently earlier centre released assistance crore state disaster response fund interim relief state \n",
      "실제 요약 : centre approves cr aid for tamil nadu post \n",
      "예측 요약 :  centre approves crore relief for kerala floods\n",
      "\n",
      "\n",
      "원문 : us president donald trump took twitter defend use social media saying mainstream media want get honest message would fake news would zero chance winning trump tweeted notably trump frequently uses twitter voice criticism media \n",
      "실제 요약 : trump defends as way to get out message \n",
      "예측 요약 :  trump tweets to trump\n",
      "\n",
      "\n",
      "원문 : least ten people injured eight coaches meerut lucknow rajya rani express derailed near bridge district uttar pradesh saturday rescue team rushed spot injured admitted nearby district hospital meanwhile railway minister suresh prabhu ordered enquiry incident \n",
      "실제 요약 : injured as of rajya express in up \n",
      "예측 요약 :  dead injured as train falls off train in\n",
      "\n",
      "\n",
      "원문 : external affairs minister sushma swaraj tuesday said connect india countries speaking india youth awards function delhi added cultural bonds india countries centuries old us special relationship youth regions \n",
      "실제 요약 : india with swaraj \n",
      "예측 요약 :  india to be on india\n",
      "\n",
      "\n",
      "원문 : government wednesday decided state owned export import bank india tune crore also approved increase authorised capital bank crore crore bank principal export credit agency country set financing promoting india international trade \n",
      "실제 요약 : govt to crore in bank of india \n",
      "예측 요약 :  government approves crore loan in fy\n",
      "\n",
      "\n",
      "원문 : responding comment apple co founder steve wozniak elon musk said wozniak bear wozniak earlier said believe anything elon musk tesla says still love car wozniak comment reference delays implementation technology musk claimed tesla cars would \n",
      "실제 요약 : apple co founder is elon musk \n",
      "예측 요약 :  tesla is elon musk\n",
      "\n",
      "\n",
      "원문 : year old girl allegedly gangraped friend two uttar pradesh police officer said tuesday accused girl piece cloth fled scene leaving critical condition spotted locals admitted hospital two three accused arrested \n",
      "실제 요약 : yr old girl gangraped after going to meet friend \n",
      "예측 요약 :  year old girl raped by in up\n",
      "\n",
      "\n",
      "원문 : two men arrested allegedly harassing female fans match northeast united fc fc chennai jawaharlal nehru stadium sunday accused booked tamil nadu prohibition harassment women act connection incident took place thursday police release said \n",
      "실제 요약 : held for female fans at chennai stadium \n",
      "예측 요약 :  arrested for trying to fans match in\n",
      "\n",
      "\n",
      "원문 : actress jennifer lawrence spotted lifting gown climbing holding wine glass oscars singer day posed lying oscars red carpet floor seen hand gown comedian actress seen jumping rope meet red carpet \n",
      "실제 요약 : in pictures at oscars \n",
      "예측 요약 :  video shows at music festival\n",
      "\n",
      "\n",
      "원문 : trolled asking fan leave india indian batsmen virat kohli tweeted guess trolling guys stick getting trolled spoke indians mentioned comment added enjoy watching english australian batsmen indians fan said \n",
      "실제 요약 : will to getting trolled kohli leave india remark \n",
      "예측 요약 :  apologises for tweet on tweet\n",
      "\n",
      "\n",
      "원문 : actor kapoor said hopes people change start looking transgenders plays transgender character upcoming film added big budget film sure people understand accept message trying give \n",
      "실제 요약 : hope people change \n",
      "예측 요약 :  have been on hindi of\n",
      "\n",
      "\n",
      "원문 : founder world largest fund firm ray said bitcoin shame adding idea bitcoins may work said lack transactions high speculations surrounding lead failure long term privacy bitcoin makes difficult accepted currency well added \n",
      "실제 요약 : bitcoin is founder of world largest fund \n",
      "예측 요약 :  bitcoin not for the customers\n",
      "\n",
      "\n",
      "원문 : number visitors mumbai zoo declined opposed average around visitors entry fee hiked tuesday fee increased visitors caused genuine visitors notably zoo collected usual collections fee hike \n",
      "실제 요약 : number of falls by after mumbai fee hike \n",
      "예측 요약 :  mumbai police to be on\n",
      "\n",
      "\n",
      "원문 : least people killed others injured mass shooting high school florida police said suspect year old former student cruz expelled school disciplinary reasons eighth deadliest mass shooting modern us history \n",
      "실제 요약 : killed injured in mass shooting at school in \n",
      "예측 요약 :  killed injured in shooting at school\n",
      "\n",
      "\n",
      "원문 : using dna uk based scientists found two brothers manchester museum different making half brothers indicated mother name leading people believe brothers dna dating around teeth \n",
      "실제 요약 : test year old \n",
      "예측 요약 :  scientists find of\n",
      "\n",
      "\n",
      "원문 : delhi court summoned dr pk gupta allegedly calling homosexuality genetic mental disorder using shock therapy treat delhi medical council complained though gupta council still practising national capital court said gupta charging minutes counselling \n",
      "실제 요약 : doctor with electric calls it \n",
      "예측 요약 :  hc refuses to yr old\n",
      "\n",
      "\n",
      "원문 : italy agency wednesday fined unilever italian unit million abusing position country ice cream market authorities started probe smaller rival accused unilever forcing local retailers sell unilever italy said conclusion italian authorities would appeal \n",
      "실제 요약 : fined cr over ice market abuse in italy \n",
      "예측 요약 :  fined cr for selling\n",
      "\n",
      "\n",
      "원문 : australian captain aaron finch short recorded first ever run stand cricket rd zimbabwe tuesday finch short shared run partnership balls number balls consumed pair australia defeated zimbabwe runs biggest victory \n",
      "실제 요약 : cricket st ever run stand comes in rd \n",
      "예측 요약 :  aus pacer breaks out of wickets in\n",
      "\n",
      "\n",
      "원문 : miss world manushi heading china hand title next miss world said miss world always miss world mixed emotions sense see next added miss world contest held china sanya december \n",
      "실제 요약 : once miss world always miss world \n",
      "예측 요약 :  world st ever at miss world\n",
      "\n",
      "\n",
      "원문 : university claimed lord discovered dinosaurs anyone else also conducting research years existence dinosaurs india added dinosaur named india india dinosaur added \n",
      "실제 요약 : lord discovered university \n",
      "예측 요약 :  in pictures of\n",
      "\n",
      "\n"
     ]
    }
   ],
   "source": [
    "for i in range(50, 100):\n",
    "    print(\"원문 :\", seq2text(encoder_input_test[i]))\n",
    "    print(\"실제 요약 :\", seq2summary(decoder_input_test[i]))\n",
    "    print(\"예측 요약 :\", decode_sequence(encoder_input_test[i].reshape(1, text_max_len)))\n",
    "    print(\"\\n\")"
   ]
  },
  {
   "cell_type": "markdown",
   "id": "d78187b3",
   "metadata": {},
   "source": [
    "## 7. 추출적 요약 시도"
   ]
  },
  {
   "cell_type": "markdown",
   "id": "84ff8696",
   "metadata": {},
   "source": [
    "앞선 모델을 통해 텍스트 요약의 방법 중 하나인 추상적 요약을 진행해 보았다. 이번에는 추상적 요약이 아닌 추출적 요약을 시도하여 성능을 테스트한다. "
   ]
  },
  {
   "cell_type": "markdown",
   "id": "371b05b1",
   "metadata": {},
   "source": [
    "## 8. 데이터 다운 "
   ]
  },
  {
   "cell_type": "code",
   "execution_count": 73,
   "id": "e20ff97e",
   "metadata": {},
   "outputs": [],
   "source": [
    "import requests\n",
    "from summa.summarizer import summarize"
   ]
  },
  {
   "cell_type": "code",
   "execution_count": 74,
   "id": "4366641c",
   "metadata": {},
   "outputs": [],
   "source": [
    "text = requests.get('http://rare-technologies.com/the_matrix_synopsis.txt').text"
   ]
  },
  {
   "cell_type": "code",
   "execution_count": 75,
   "id": "526cf310",
   "metadata": {},
   "outputs": [
    {
     "name": "stdout",
     "output_type": "stream",
     "text": [
      "### 데이터를 일부 확인합니다 ###\n",
      "The screen is filled with green, cascading code which gives way to the title, The Matrix.\r\n",
      "\r\n",
      "A phone rings and text appears on the screen: \"Call trans opt: received. 2-19-98 13:24:18 REC: Log>\" As a conversation takes place between Trinity (Carrie-Anne Moss) and Cypher (Joe Pantoliano), two free humans, a table of random green numbers are being scanned and individual numbers selected, creating a series of digits not unlike an ordinary phone number, as if a code is being deciphered or a call is being traced.\r\n",
      "\r\n",
      "Trinity discusses some unknown person. Cypher taunts Trinity, suggesting she enjoys watching him. Trinity counters that \"Morpheus (Laurence Fishburne) says he may be 'the One',\" just as the sound of a number being selected alerts Trinity that someone may be tracing their call. She ends the call.\r\n",
      "\r\n",
      "Armed policemen move down a darkened, decrepit hallway in the Heart O' the City Hotel, their flashlight beam bouncing just ahead of them. They come to room 303, kick down the door and find a woman dressed in black, facing away from them. It's Trinity. She brings her hands up from the laptop she's working on at their command.\r\n",
      "\r\n",
      "Outside the hotel a car drives up and three agents appear in neatly pressed black suits. They are Agent Smith (Hugo Weaving), Agent Brown (Paul Goddard), and Agent Jones (Robert Taylor). Agent Smith and the presiding police lieutenant argue. Agent Smith admonishes the policeman that they were given specific orders to contact the agents first, for their\n"
     ]
    }
   ],
   "source": [
    "print('### 데이터를 일부 확인합니다 ###')\n",
    "print(text[:1500])"
   ]
  },
  {
   "cell_type": "markdown",
   "id": "69741de1",
   "metadata": {},
   "source": [
    "### summarize 사용하기"
   ]
  },
  {
   "cell_type": "markdown",
   "id": "7eec6a96",
   "metadata": {},
   "source": [
    "# 후기"
   ]
  },
  {
   "cell_type": "markdown",
   "id": "7c6c6361",
   "metadata": {},
   "source": [
    "아쉽게도 시간부족으로 summarize까지 시도해보지 못하고 후기도 제대로 작성하지 못했다. \n",
    "어려운 부분이 많았는데 학습시간이 너무 오래걸려 충분히 여러가지 시도해보지 못한 점이 아쉬웠다. "
   ]
  }
 ],
 "metadata": {
  "kernelspec": {
   "display_name": "Python 3 (ipykernel)",
   "language": "python",
   "name": "python3"
  },
  "language_info": {
   "codemirror_mode": {
    "name": "ipython",
    "version": 3
   },
   "file_extension": ".py",
   "mimetype": "text/x-python",
   "name": "python",
   "nbconvert_exporter": "python",
   "pygments_lexer": "ipython3",
   "version": "3.9.7"
  }
 },
 "nbformat": 4,
 "nbformat_minor": 5
}
