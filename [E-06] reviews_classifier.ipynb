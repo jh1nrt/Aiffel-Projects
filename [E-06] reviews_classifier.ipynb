{
 "cells": [
  {
   "cell_type": "markdown",
   "id": "b076213e",
   "metadata": {},
   "source": [
    "# 영화리뷰 감성분석기"
   ]
  },
  {
   "cell_type": "markdown",
   "id": "c94431dd",
   "metadata": {},
   "source": [
    "이번시간에는 자연어 처리에 주로 활용되는 RNN을 활용하여 영화 리뷰 감성분석기 자연어 처리 모델을 구현해 본다. \n",
    "학습 목표는 아래와 같다. \n",
    "\n",
    "- 텍스트 데이터를 머신러닝 입출력용 수치데이터로 변환하는 과정을 이해한다.\n",
    "- RNN의 특징을 이해하고 시퀀셜한 데이터를 다루는 방법을 이해한다.\n",
    "- 1-D CNN으로도 텍스트를 처리할 수 있음을 이해한다.\n",
    "- IMDB와 네이버 영화리뷰 데이터셋을 이용한 영화리뷰 감성 분류 실습을 진행한다.\n",
    "\n",
    "구현을 진행할 순서는 아래와 같다. \n",
    "\n",
    "    1. 데이터 준비와 확인\n",
    "    2. 데이터로더 구성\n",
    "    3. 모델 구성을 위한 데이터 분석 및 가공\n",
    "    4. 모델 구성 및 validation set 구성\n",
    "    5. 모델 훈련 개시\n",
    "    6. 모델 평가\n",
    "    7. 학습된 Embedding Layer 분석\n",
    "    8. 한국어 Word2Vec 임베딩 활용하여 성능 개선 \n",
    "    9. 결론 및 후기\n",
    "\n",
    "시작해보자"
   ]
  },
  {
   "cell_type": "markdown",
   "id": "7ecc4ac0",
   "metadata": {},
   "source": [
    "## 1. 데이터 준비와 확인"
   ]
  },
  {
   "cell_type": "code",
   "execution_count": 1,
   "id": "f94525fb",
   "metadata": {},
   "outputs": [
    {
     "data": {
      "text/html": [
       "<div>\n",
       "<style scoped>\n",
       "    .dataframe tbody tr th:only-of-type {\n",
       "        vertical-align: middle;\n",
       "    }\n",
       "\n",
       "    .dataframe tbody tr th {\n",
       "        vertical-align: top;\n",
       "    }\n",
       "\n",
       "    .dataframe thead th {\n",
       "        text-align: right;\n",
       "    }\n",
       "</style>\n",
       "<table border=\"1\" class=\"dataframe\">\n",
       "  <thead>\n",
       "    <tr style=\"text-align: right;\">\n",
       "      <th></th>\n",
       "      <th>id</th>\n",
       "      <th>document</th>\n",
       "      <th>label</th>\n",
       "    </tr>\n",
       "  </thead>\n",
       "  <tbody>\n",
       "    <tr>\n",
       "      <th>0</th>\n",
       "      <td>9976970</td>\n",
       "      <td>아 더빙.. 진짜 짜증나네요 목소리</td>\n",
       "      <td>0</td>\n",
       "    </tr>\n",
       "    <tr>\n",
       "      <th>1</th>\n",
       "      <td>3819312</td>\n",
       "      <td>흠...포스터보고 초딩영화줄....오버연기조차 가볍지 않구나</td>\n",
       "      <td>1</td>\n",
       "    </tr>\n",
       "    <tr>\n",
       "      <th>2</th>\n",
       "      <td>10265843</td>\n",
       "      <td>너무재밓었다그래서보는것을추천한다</td>\n",
       "      <td>0</td>\n",
       "    </tr>\n",
       "    <tr>\n",
       "      <th>3</th>\n",
       "      <td>9045019</td>\n",
       "      <td>교도소 이야기구먼 ..솔직히 재미는 없다..평점 조정</td>\n",
       "      <td>0</td>\n",
       "    </tr>\n",
       "    <tr>\n",
       "      <th>4</th>\n",
       "      <td>6483659</td>\n",
       "      <td>사이몬페그의 익살스런 연기가 돋보였던 영화!스파이더맨에서 늙어보이기만 했던 커스틴 ...</td>\n",
       "      <td>1</td>\n",
       "    </tr>\n",
       "  </tbody>\n",
       "</table>\n",
       "</div>"
      ],
      "text/plain": [
       "         id                                           document  label\n",
       "0   9976970                                아 더빙.. 진짜 짜증나네요 목소리      0\n",
       "1   3819312                  흠...포스터보고 초딩영화줄....오버연기조차 가볍지 않구나      1\n",
       "2  10265843                                  너무재밓었다그래서보는것을추천한다      0\n",
       "3   9045019                      교도소 이야기구먼 ..솔직히 재미는 없다..평점 조정      0\n",
       "4   6483659  사이몬페그의 익살스런 연기가 돋보였던 영화!스파이더맨에서 늙어보이기만 했던 커스틴 ...      1"
      ]
     },
     "execution_count": 1,
     "metadata": {},
     "output_type": "execute_result"
    }
   ],
   "source": [
    "import pandas as pd\n",
    "import urllib.request\n",
    "%matplotlib inline\n",
    "import matplotlib.pyplot as plt\n",
    "import re\n",
    "from konlpy.tag import Okt\n",
    "import tensorflow \n",
    "from tensorflow import keras\n",
    "from tensorflow.keras.preprocessing.text import Tokenizer\n",
    "import numpy as np\n",
    "from tensorflow.keras.preprocessing.sequence import pad_sequences\n",
    "from collections import Counter\n",
    "\n",
    "\n",
    "# 데이터 파일 읽기\n",
    "train_data = pd.read_table('~/aiffel/sentiment_classification/data/ratings_train.txt')\n",
    "test_data = pd.read_table('~/aiffel/sentiment_classification/data/ratings_test.txt')\n",
    "\n",
    "train_data.head()"
   ]
  },
  {
   "cell_type": "markdown",
   "id": "35260742",
   "metadata": {},
   "source": [
    "## 2. 데이터로더 구성"
   ]
  },
  {
   "cell_type": "markdown",
   "id": "b9e5a10d",
   "metadata": {},
   "source": [
    "데이터로더에서 다음의 사항을 수행해야 한다. \n",
    "\n",
    "    - 데이터의 중복 제거\n",
    "    - NaN 결측치 제거\n",
    "    - 한국어 토크나이저로 토큰화\n",
    "    - 불용어(Stopwords) 제거\n",
    "    - 사전 word_to_index 구성\n",
    "    - 텍스트 스트링을 사전 인덱스 스트링으로 변환\n",
    "    - X_train, y_train, X_test, y_test, word_to_index 리턴\n",
    "    \n",
    "위의 기능을 포함한 데이터로더 함수를 구현한다. \n"
   ]
  },
  {
   "cell_type": "markdown",
   "id": "ecaba295",
   "metadata": {},
   "source": [
    "### 데이터로더 함수 구현"
   ]
  },
  {
   "cell_type": "code",
   "execution_count": 2,
   "id": "af44ed94",
   "metadata": {},
   "outputs": [
    {
     "name": "stdout",
     "output_type": "stream",
     "text": [
      "train data 개수: 146182, test data 개수: 49157\n"
     ]
    }
   ],
   "source": [
    "from konlpy.tag import Mecab\n",
    "import numpy as np\n",
    "from collections import Counter\n",
    "\n",
    "tokenizer = Mecab()\n",
    "stopwords = ['의','가','이','은','들','는','좀','잘','걍','과','도','를','으로','자','에','와','한','하다']\n",
    "\n",
    "def load_data(train_data, test_data, num_words=10000):\n",
    "    train_data.drop_duplicates(subset=['document'], inplace=True)\n",
    "    train_data = train_data.dropna(how = 'any') \n",
    "    test_data.drop_duplicates(subset=['document'], inplace=True)\n",
    "    test_data = test_data.dropna(how = 'any') \n",
    "    \n",
    "    X_train = []\n",
    "    for sentence in train_data['document']:\n",
    "        temp_X = tokenizer.morphs(sentence) # 토큰화\n",
    "        temp_X = [word for word in temp_X if not word in stopwords] # 불용어 제거\n",
    "        X_train.append(temp_X)\n",
    "\n",
    "    X_test = []\n",
    "    for sentence in test_data['document']:\n",
    "        temp_X = tokenizer.morphs(sentence) # 토큰화\n",
    "        temp_X = [word for word in temp_X if not word in stopwords] # 불용어 제거\n",
    "        X_test.append(temp_X)\n",
    "    \n",
    "    words = np.concatenate(X_train).tolist()\n",
    "    counter = Counter(words)\n",
    "    counter = counter.most_common(10000-4)\n",
    "    vocab = ['<PAD>', '<BOS>', '<UNK>', '']+[key for key, _ in counter]\n",
    "    word_to_index = {word:index for index, word in enumerate(vocab)}\n",
    "        \n",
    "    def wordlist_to_indexlist(wordlist):\n",
    "        return [word_to_index[word] if word in word_to_index else word_to_index[''] for word in wordlist]\n",
    "        \n",
    "    X_train = list(map(wordlist_to_indexlist, X_train))\n",
    "    X_test = list(map(wordlist_to_indexlist, X_test))\n",
    "        \n",
    "    return X_train, np.array(list(train_data['label'])), X_test, np.array(list(test_data['label'])), word_to_index\n",
    "    \n",
    "X_train, y_train, X_test, y_test, word_to_index = load_data(train_data, test_data) \n",
    "print(f'train data 개수: {len(X_train)}, test data 개수: {len(X_test)}')"
   ]
  },
  {
   "cell_type": "markdown",
   "id": "d3a9dc9c",
   "metadata": {},
   "source": [
    "### {숫자:단어} 형태의 딕셔너리 생성"
   ]
  },
  {
   "cell_type": "code",
   "execution_count": 3,
   "id": "8ff843f5",
   "metadata": {},
   "outputs": [],
   "source": [
    "index_to_word = {index:word for word, index in word_to_index.items()}"
   ]
  },
  {
   "cell_type": "markdown",
   "id": "e1d7139d",
   "metadata": {},
   "source": [
    "### 필요한 함수 기능 작성"
   ]
  },
  {
   "cell_type": "code",
   "execution_count": 4,
   "id": "af51ae20",
   "metadata": {},
   "outputs": [],
   "source": [
    "# 문장 1개를 활용할 딕셔너리와 함께 주면, 단어 인덱스 리스트 벡터로 변환해 주는 함수입니다. \n",
    "# 단, 모든 문장은 <BOS>로 시작하는 것으로 합니다. \n",
    "def get_encoded_sentence(sentence, word_to_index):\n",
    "    return [word_to_index['<BOS>']]+[word_to_index[word] if word in word_to_index else word_to_index['<UNK>'] for word in sentence.split()]\n",
    "\n",
    "# 여러 개의 문장 리스트를 한꺼번에 단어 인덱스 리스트 벡터로 encode해 주는 함수입니다. \n",
    "def get_encoded_sentences(sentences, word_to_index):\n",
    "    return [get_encoded_sentence(sentence, word_to_index) for sentence in sentences]\n",
    "\n",
    "# 숫자 벡터로 encode된 문장을 원래대로 decode하는 함수입니다. \n",
    "def get_decoded_sentence(encoded_sentence, index_to_word):\n",
    "    return ' '.join(index_to_word[index] if index in index_to_word else '<UNK>' for index in encoded_sentence[1:])  #[1:]를 통해 <BOS>를 제외\n",
    "\n",
    "# 여러 개의 숫자 벡터로 encode된 문장을 한꺼번에 원래대로 decode하는 함수입니다. \n",
    "def get_decoded_sentences(encoded_sentences, index_to_word):\n",
    "    return [get_decoded_sentence(encoded_sentence, index_to_word) for encoded_sentence in encoded_sentences]"
   ]
  },
  {
   "cell_type": "markdown",
   "id": "1136ce6b",
   "metadata": {},
   "source": [
    "### encode된 텍스트 데이터가 decode 되는지 확인"
   ]
  },
  {
   "cell_type": "code",
   "execution_count": 5,
   "id": "fdb2e2ce",
   "metadata": {},
   "outputs": [
    {
     "name": "stdout",
     "output_type": "stream",
     "text": [
      "[32, 74, 919, 4, 4, 39, 228, 20, 33, 748]\n",
      "더 빙 . . 진짜 짜증 나 네요 목소리\n",
      "라벨:  0\n"
     ]
    }
   ],
   "source": [
    "print(X_train[0])\n",
    "print(get_decoded_sentence(X_train[0], index_to_word))\n",
    "print('라벨: ', y_train[0])  # 1번째 리뷰데이터의 라벨"
   ]
  },
  {
   "cell_type": "markdown",
   "id": "17ea5c38",
   "metadata": {},
   "source": [
    "## 3. 모델 구성을 위한 데이터 분석 및 가공"
   ]
  },
  {
   "cell_type": "markdown",
   "id": "7997e7c8",
   "metadata": {},
   "source": [
    "### 데이터의 문장 길이 정제\n",
    "문장이 너무 길면 학습과 모델 성능에 좋지 않은 영향을 미치게 되므로 적절한 값으로 정제해야한다. 이를 위해 데이터셋의 문장길이의 분포를 확인하고 적절한 길이로 설정한다. "
   ]
  },
  {
   "cell_type": "code",
   "execution_count": 6,
   "id": "5536c3c7",
   "metadata": {},
   "outputs": [
    {
     "name": "stdout",
     "output_type": "stream",
     "text": [
      "문장길이 평균 :  15.96940191154864\n",
      "문장길이 최대 :  116\n",
      "문장길이 표준편차 :  12.843571191092\n",
      "pad_sequences maxlen :  41\n",
      "전체 문장의 0.9342988343341575%가 maxlen 설정값 이내에 포함됩니다. \n"
     ]
    }
   ],
   "source": [
    "total_data_text = list(X_train) + list(X_test)\n",
    "# 텍스트데이터 문장길이의 리스트를 생성한 후\n",
    "num_tokens = [len(tokens) for tokens in total_data_text]\n",
    "num_tokens = np.array(num_tokens)\n",
    "# 문장길이의 평균값, 최대값, 표준편차를 계산해 본다. \n",
    "print('문장길이 평균 : ', np.mean(num_tokens))\n",
    "print('문장길이 최대 : ', np.max(num_tokens))\n",
    "print('문장길이 표준편차 : ', np.std(num_tokens))\n",
    "\n",
    "# 예를들어, 최대 길이를 (평균 + 2*표준편차)로 한다면,  \n",
    "max_tokens = np.mean(num_tokens) + 2 * np.std(num_tokens)\n",
    "maxlen = int(max_tokens)\n",
    "print('pad_sequences maxlen : ', maxlen)\n",
    "print('전체 문장의 {}%가 maxlen 설정값 이내에 포함됩니다. '.format(np.sum(num_tokens < max_tokens) / len(num_tokens)))"
   ]
  },
  {
   "cell_type": "markdown",
   "id": "75b8e254",
   "metadata": {},
   "source": [
    "### 문장 길이를 통일시켜주기 위해 padding 적용\n",
    "padding을 적용할 방식을 문장 뒤쪽(post)와 앞쪽(pre) 중 어느쪽으로 할지에 따라 성능차이가 발생하기 때문에 확인을 위해 각각 따로 적용하여 진행한다. "
   ]
  },
  {
   "cell_type": "code",
   "execution_count": 7,
   "id": "277545be",
   "metadata": {},
   "outputs": [
    {
     "name": "stdout",
     "output_type": "stream",
     "text": [
      "(146182, 41)\n"
     ]
    }
   ],
   "source": [
    "X_train_pre = tensorflow.keras.preprocessing.sequence.pad_sequences(X_train,\n",
    "                                                        value=word_to_index[\"<PAD>\"],\n",
    "                                                        padding='post',\n",
    "                                                        maxlen=maxlen)\n",
    "\n",
    "X_test_pre = tensorflow.keras.preprocessing.sequence.pad_sequences(X_test,\n",
    "                                                       value=word_to_index[\"<PAD>\"],\n",
    "                                                       padding='post',\n",
    "                                                       maxlen=maxlen)\n",
    "\n",
    "print(X_train_pre.shape)"
   ]
  },
  {
   "cell_type": "code",
   "execution_count": 8,
   "id": "f4bb60a4",
   "metadata": {},
   "outputs": [
    {
     "name": "stdout",
     "output_type": "stream",
     "text": [
      "(146182, 41)\n"
     ]
    }
   ],
   "source": [
    "X_train_post = keras.preprocessing.sequence.pad_sequences(X_train,\n",
    "                                                        value=word_to_index[\"<PAD>\"],\n",
    "                                                        padding='post',\n",
    "                                                        maxlen=maxlen)\n",
    "\n",
    "X_test_post = keras.preprocessing.sequence.pad_sequences(X_test,\n",
    "                                                       value=word_to_index[\"<PAD>\"],\n",
    "                                                       padding='post', \n",
    "                                                       maxlen=maxlen)\n",
    "\n",
    "print(X_train_post.shape)"
   ]
  },
  {
   "cell_type": "markdown",
   "id": "65bd540b",
   "metadata": {},
   "source": [
    "### 각각 적용된 패딩 확인"
   ]
  },
  {
   "cell_type": "code",
   "execution_count": 9,
   "id": "5e3f3af7",
   "metadata": {},
   "outputs": [
    {
     "name": "stdout",
     "output_type": "stream",
     "text": [
      "[ 32  74 919   4   4  39 228  20  33 748   0   0   0   0   0   0   0   0\n",
      "   0   0   0   0   0   0   0   0   0   0   0   0   0   0   0   0   0   0\n",
      "   0   0   0   0   0]\n",
      "더 빙 . . 진짜 짜증 나 네요 목소리 <PAD> <PAD> <PAD> <PAD> <PAD> <PAD> <PAD> <PAD> <PAD> <PAD> <PAD> <PAD> <PAD> <PAD> <PAD> <PAD> <PAD> <PAD> <PAD> <PAD> <PAD> <PAD> <PAD> <PAD> <PAD> <PAD> <PAD> <PAD> <PAD> <PAD> <PAD>\n",
      "라벨:  0\n"
     ]
    }
   ],
   "source": [
    "print(X_train_pre[0])\n",
    "print(get_decoded_sentence(X_train_pre[0], index_to_word))\n",
    "print('라벨: ', y_train[0])  # 1번째 리뷰데이터의 라벨"
   ]
  },
  {
   "cell_type": "code",
   "execution_count": 10,
   "id": "66d7adb8",
   "metadata": {},
   "outputs": [
    {
     "name": "stdout",
     "output_type": "stream",
     "text": [
      "[ 32  74 919   4   4  39 228  20  33 748   0   0   0   0   0   0   0   0\n",
      "   0   0   0   0   0   0   0   0   0   0   0   0   0   0   0   0   0   0\n",
      "   0   0   0   0   0]\n",
      "더 빙 . . 진짜 짜증 나 네요 목소리 <PAD> <PAD> <PAD> <PAD> <PAD> <PAD> <PAD> <PAD> <PAD> <PAD> <PAD> <PAD> <PAD> <PAD> <PAD> <PAD> <PAD> <PAD> <PAD> <PAD> <PAD> <PAD> <PAD> <PAD> <PAD> <PAD> <PAD> <PAD> <PAD> <PAD> <PAD>\n",
      "라벨:  0\n"
     ]
    }
   ],
   "source": [
    "print(X_train_post[0])\n",
    "print(get_decoded_sentence(X_train_post[0], index_to_word))\n",
    "print('라벨: ', y_train[0])  # 1번째 리뷰데이터의 라벨"
   ]
  },
  {
   "cell_type": "markdown",
   "id": "f9c021e6",
   "metadata": {},
   "source": [
    "## 4. 모델 구성 및 validation set 구성"
   ]
  },
  {
   "cell_type": "markdown",
   "id": "20ec91fe",
   "metadata": {},
   "source": [
    "### validation set 구성 "
   ]
  },
  {
   "cell_type": "code",
   "execution_count": 11,
   "id": "38d65eda",
   "metadata": {},
   "outputs": [
    {
     "name": "stdout",
     "output_type": "stream",
     "text": [
      "(45000, 41)\n",
      "(45000, 41)\n",
      "(45000,)\n",
      "(101182, 41)\n",
      "(101182, 41)\n",
      "(101182,)\n"
     ]
    }
   ],
   "source": [
    "# validation set 10000건 분리\n",
    "X_val_pre = X_train_pre[:45000]    # pre 패딩된 train set 분리\n",
    "X_val_post = X_train_post[:45000]  # post 패딩된 train set 분리\n",
    "y_val = y_train[:45000]\n",
    "\n",
    "# validation set을 제외한 나머지\n",
    "partial_X_train_pre = X_train_pre[45000:]\n",
    "partial_X_train_post = X_train_post[45000:]\n",
    "partial_y_train = y_train[45000:]\n",
    "\n",
    "# validation set 갯수\n",
    "print(X_val_pre.shape)\n",
    "print(X_val_post.shape)\n",
    "print(y_val.shape)\n",
    "\n",
    "# train set 갯수\n",
    "print(partial_X_train_pre.shape)\n",
    "print(partial_X_train_post.shape)\n",
    "print(partial_y_train.shape)"
   ]
  },
  {
   "cell_type": "markdown",
   "id": "692c9591",
   "metadata": {},
   "source": [
    "### 모델 구성\n",
    "3가지의 다양한 모델로 데이터셋을 학습시킨다. 여기서는 아래의 모델을 구성하고 학습시킨다. \n",
    "\n",
    "    1) RNN 모델\n",
    "    2) CNN 모델\n",
    "    3) GlobalMaxPooling1D() 모델\n",
    "    \n",
    "각각의 모델을 pre, post 패딩 데이터로 따로 학습시킨다. "
   ]
  },
  {
   "cell_type": "markdown",
   "id": "7805b1bb",
   "metadata": {},
   "source": [
    "### 1) RNN 모델"
   ]
  },
  {
   "cell_type": "code",
   "execution_count": 12,
   "id": "83e34427",
   "metadata": {},
   "outputs": [
    {
     "name": "stdout",
     "output_type": "stream",
     "text": [
      "Model: \"sequential\"\n",
      "_________________________________________________________________\n",
      "Layer (type)                 Output Shape              Param #   \n",
      "=================================================================\n",
      "embedding (Embedding)        (None, None, 16)          160000    \n",
      "_________________________________________________________________\n",
      "lstm (LSTM)                  (None, 8)                 800       \n",
      "_________________________________________________________________\n",
      "dense (Dense)                (None, 8)                 72        \n",
      "_________________________________________________________________\n",
      "dense_1 (Dense)              (None, 1)                 9         \n",
      "=================================================================\n",
      "Total params: 160,881\n",
      "Trainable params: 160,881\n",
      "Non-trainable params: 0\n",
      "_________________________________________________________________\n"
     ]
    }
   ],
   "source": [
    "vocab_size = 10000    # 어휘 사전의 크기(10,000개의 단어)\n",
    "word_vector_dim = 16  # 단어 하나를 표현하는 임베딩 벡터의 차원수 (변경가능)\n",
    "\n",
    "# LSTM 레이어로 모델 설계\n",
    "model_rnn_pre = keras.Sequential()\n",
    "model_rnn_pre.add(keras.layers.Embedding(vocab_size, word_vector_dim, input_shape=(None,)))\n",
    "model_rnn_pre.add(keras.layers.LSTM(8))  # LSTM state 벡터의 차원수 (변경가능)\n",
    "model_rnn_pre.add(keras.layers.Dense(8, activation='relu'))\n",
    "model_rnn_pre.add(keras.layers.Dense(1, activation='sigmoid'))  # 최종 출력은 긍정/부정을 나타내는 1dim\n",
    "\n",
    "model_rnn_pre.summary()"
   ]
  },
  {
   "cell_type": "code",
   "execution_count": 13,
   "id": "e6943d54",
   "metadata": {},
   "outputs": [
    {
     "name": "stdout",
     "output_type": "stream",
     "text": [
      "Model: \"sequential_1\"\n",
      "_________________________________________________________________\n",
      "Layer (type)                 Output Shape              Param #   \n",
      "=================================================================\n",
      "embedding_1 (Embedding)      (None, None, 16)          160000    \n",
      "_________________________________________________________________\n",
      "lstm_1 (LSTM)                (None, 8)                 800       \n",
      "_________________________________________________________________\n",
      "dense_2 (Dense)              (None, 8)                 72        \n",
      "_________________________________________________________________\n",
      "dense_3 (Dense)              (None, 1)                 9         \n",
      "=================================================================\n",
      "Total params: 160,881\n",
      "Trainable params: 160,881\n",
      "Non-trainable params: 0\n",
      "_________________________________________________________________\n"
     ]
    }
   ],
   "source": [
    "vocab_size = 10000    # 어휘 사전의 크기(10,000개의 단어)\n",
    "word_vector_dim = 16  # 단어 하나를 표현하는 임베딩 벡터의 차원수 (변경가능)\n",
    "\n",
    "# LSTM 레이어로 모델 설계\n",
    "model_rnn_post = keras.Sequential()\n",
    "model_rnn_post.add(keras.layers.Embedding(vocab_size, word_vector_dim, input_shape=(None,)))\n",
    "model_rnn_post.add(keras.layers.LSTM(8))  # LSTM state 벡터의 차원수 (변경가능)\n",
    "model_rnn_post.add(keras.layers.Dense(8, activation='relu'))\n",
    "model_rnn_post.add(keras.layers.Dense(1, activation='sigmoid'))  # 최종 출력은 긍정/부정을 나타내는 1dim\n",
    "\n",
    "model_rnn_post.summary()"
   ]
  },
  {
   "cell_type": "markdown",
   "id": "995b119e",
   "metadata": {},
   "source": [
    "### 2) CNN 모델"
   ]
  },
  {
   "cell_type": "code",
   "execution_count": 14,
   "id": "6e4909a6",
   "metadata": {},
   "outputs": [
    {
     "name": "stdout",
     "output_type": "stream",
     "text": [
      "Model: \"sequential_2\"\n",
      "_________________________________________________________________\n",
      "Layer (type)                 Output Shape              Param #   \n",
      "=================================================================\n",
      "embedding_2 (Embedding)      (None, None, 16)          160000    \n",
      "_________________________________________________________________\n",
      "conv1d (Conv1D)              (None, None, 16)          784       \n",
      "_________________________________________________________________\n",
      "max_pooling1d (MaxPooling1D) (None, None, 16)          0         \n",
      "_________________________________________________________________\n",
      "conv1d_1 (Conv1D)            (None, None, 16)          784       \n",
      "_________________________________________________________________\n",
      "global_max_pooling1d (Global (None, 16)                0         \n",
      "_________________________________________________________________\n",
      "dense_4 (Dense)              (None, 8)                 136       \n",
      "_________________________________________________________________\n",
      "dense_5 (Dense)              (None, 1)                 9         \n",
      "=================================================================\n",
      "Total params: 161,713\n",
      "Trainable params: 161,713\n",
      "Non-trainable params: 0\n",
      "_________________________________________________________________\n"
     ]
    }
   ],
   "source": [
    "vocab_size = 10000    # 어휘 사전의 크기(10,000개의 단어)\n",
    "word_vector_dim = 16  # 단어 하나를 표현하는 임베딩 벡터의 차원수 (변경가능)\n",
    "\n",
    "# 1-D CNN 모델 설계\n",
    "model_1dcnn_pre = keras.Sequential()\n",
    "model_1dcnn_pre.add(keras.layers.Embedding(vocab_size, word_vector_dim, input_shape=(None,)))\n",
    "model_1dcnn_pre.add(keras.layers.Conv1D(16, 3, activation='relu'))\n",
    "model_1dcnn_pre.add(keras.layers.MaxPooling1D(5))\n",
    "model_1dcnn_pre.add(keras.layers.Conv1D(16, 3, activation='relu'))\n",
    "model_1dcnn_pre.add(keras.layers.GlobalMaxPooling1D())\n",
    "model_1dcnn_pre.add(keras.layers.Dense(8, activation='relu'))\n",
    "model_1dcnn_pre.add(keras.layers.Dense(1, activation='sigmoid'))  # 최종 출력은 긍정/부정을 나타내는 1dim\n",
    "\n",
    "model_1dcnn_pre.summary()"
   ]
  },
  {
   "cell_type": "code",
   "execution_count": 15,
   "id": "88e19ea5",
   "metadata": {},
   "outputs": [
    {
     "name": "stdout",
     "output_type": "stream",
     "text": [
      "Model: \"sequential_2\"\n",
      "_________________________________________________________________\n",
      "Layer (type)                 Output Shape              Param #   \n",
      "=================================================================\n",
      "embedding_2 (Embedding)      (None, None, 16)          160000    \n",
      "_________________________________________________________________\n",
      "conv1d (Conv1D)              (None, None, 16)          784       \n",
      "_________________________________________________________________\n",
      "max_pooling1d (MaxPooling1D) (None, None, 16)          0         \n",
      "_________________________________________________________________\n",
      "conv1d_1 (Conv1D)            (None, None, 16)          784       \n",
      "_________________________________________________________________\n",
      "global_max_pooling1d (Global (None, 16)                0         \n",
      "_________________________________________________________________\n",
      "dense_4 (Dense)              (None, 8)                 136       \n",
      "_________________________________________________________________\n",
      "dense_5 (Dense)              (None, 1)                 9         \n",
      "=================================================================\n",
      "Total params: 161,713\n",
      "Trainable params: 161,713\n",
      "Non-trainable params: 0\n",
      "_________________________________________________________________\n"
     ]
    }
   ],
   "source": [
    "vocab_size = 10000    # 어휘 사전의 크기(10,000개의 단어)\n",
    "word_vector_dim = 16  # 단어 하나를 표현하는 임베딩 벡터의 차원수 (변경가능)\n",
    "\n",
    "# 1-D CNN 모델 설계\n",
    "model_1dcnn_post = keras.Sequential()\n",
    "model_1dcnn_post.add(keras.layers.Embedding(vocab_size, word_vector_dim, input_shape=(None,)))\n",
    "model_1dcnn_post.add(keras.layers.Conv1D(16, 3, activation='relu'))\n",
    "model_1dcnn_post.add(keras.layers.MaxPooling1D(5))\n",
    "model_1dcnn_post.add(keras.layers.Conv1D(16, 3, activation='relu'))\n",
    "model_1dcnn_post.add(keras.layers.GlobalMaxPooling1D())\n",
    "model_1dcnn_post.add(keras.layers.Dense(8, activation='relu'))\n",
    "model_1dcnn_post.add(keras.layers.Dense(1, activation='sigmoid'))  # 최종 출력은 긍정/부정을 나타내는 1dim\n",
    "\n",
    "model_1dcnn_pre.summary()"
   ]
  },
  {
   "cell_type": "markdown",
   "id": "99ff8882",
   "metadata": {},
   "source": [
    "### 3) GlobalMaxPooling1D() 모델"
   ]
  },
  {
   "cell_type": "code",
   "execution_count": 16,
   "id": "29a7ca3d",
   "metadata": {},
   "outputs": [
    {
     "name": "stdout",
     "output_type": "stream",
     "text": [
      "Model: \"sequential_4\"\n",
      "_________________________________________________________________\n",
      "Layer (type)                 Output Shape              Param #   \n",
      "=================================================================\n",
      "embedding_4 (Embedding)      (None, None, 16)          160000    \n",
      "_________________________________________________________________\n",
      "global_max_pooling1d_2 (Glob (None, 16)                0         \n",
      "_________________________________________________________________\n",
      "dense_8 (Dense)              (None, 8)                 136       \n",
      "_________________________________________________________________\n",
      "dense_9 (Dense)              (None, 1)                 9         \n",
      "=================================================================\n",
      "Total params: 160,145\n",
      "Trainable params: 160,145\n",
      "Non-trainable params: 0\n",
      "_________________________________________________________________\n"
     ]
    }
   ],
   "source": [
    "vocab_size = 10000    # 어휘 사전의 크기(10,000개의 단어)\n",
    "word_vector_dim = 16  # 단어 하나를 표현하는 임베딩 벡터의 차원 수\n",
    "# GlobalMaxPooling1D() 레이어 하나만 사용하여 모델 설계\n",
    "model_gmp_pre = keras.Sequential()\n",
    "model_gmp_pre.add(keras.layers.Embedding(vocab_size, word_vector_dim, input_shape=(None,)))\n",
    "model_gmp_pre.add(keras.layers.GlobalMaxPooling1D())\n",
    "model_gmp_pre.add(keras.layers.Dense(8, activation='relu'))\n",
    "model_gmp_pre.add(keras.layers.Dense(1, activation='sigmoid'))  # 최종 출력은 긍정/부정을 나타내는 1dim\n",
    "\n",
    "model_gmp_pre.summary()"
   ]
  },
  {
   "cell_type": "code",
   "execution_count": 17,
   "id": "0542c07d",
   "metadata": {},
   "outputs": [
    {
     "name": "stdout",
     "output_type": "stream",
     "text": [
      "Model: \"sequential_5\"\n",
      "_________________________________________________________________\n",
      "Layer (type)                 Output Shape              Param #   \n",
      "=================================================================\n",
      "embedding_5 (Embedding)      (None, None, 16)          160000    \n",
      "_________________________________________________________________\n",
      "global_max_pooling1d_3 (Glob (None, 16)                0         \n",
      "_________________________________________________________________\n",
      "dense_10 (Dense)             (None, 8)                 136       \n",
      "_________________________________________________________________\n",
      "dense_11 (Dense)             (None, 1)                 9         \n",
      "=================================================================\n",
      "Total params: 160,145\n",
      "Trainable params: 160,145\n",
      "Non-trainable params: 0\n",
      "_________________________________________________________________\n"
     ]
    }
   ],
   "source": [
    "vocab_size = 10000    # 어휘 사전의 크기(10,000개의 단어)\n",
    "word_vector_dim = 16  # 단어 하나를 표현하는 임베딩 벡터의 차원 수\n",
    "# GlobalMaxPooling1D() 레이어 하나만 사용하여 모델 설계\n",
    "model_gmp_post = keras.Sequential()\n",
    "model_gmp_post.add(keras.layers.Embedding(vocab_size, word_vector_dim, input_shape=(None,)))\n",
    "model_gmp_post.add(keras.layers.GlobalMaxPooling1D())\n",
    "model_gmp_post.add(keras.layers.Dense(8, activation='relu'))\n",
    "model_gmp_post.add(keras.layers.Dense(1, activation='sigmoid'))  # 최종 출력은 긍정/부정을 나타내는 1dim\n",
    "\n",
    "model_gmp_post.summary()"
   ]
  },
  {
   "cell_type": "markdown",
   "id": "ed430b1e",
   "metadata": {},
   "source": [
    "## 5. 모델 학습"
   ]
  },
  {
   "cell_type": "markdown",
   "id": "70873b9c",
   "metadata": {},
   "source": [
    "### 5-1. RNN 모델로 pre 패딩 데이터셋 학습"
   ]
  },
  {
   "cell_type": "code",
   "execution_count": 18,
   "id": "a2ab5c81",
   "metadata": {},
   "outputs": [
    {
     "name": "stdout",
     "output_type": "stream",
     "text": [
      "Epoch 1/5\n",
      "198/198 [==============================] - 5s 8ms/step - loss: 0.5750 - accuracy: 0.6793 - val_loss: 0.4206 - val_accuracy: 0.8196\n",
      "Epoch 2/5\n",
      "198/198 [==============================] - 1s 6ms/step - loss: 0.3605 - accuracy: 0.8484 - val_loss: 0.3519 - val_accuracy: 0.8479\n",
      "Epoch 3/5\n",
      "198/198 [==============================] - 1s 6ms/step - loss: 0.3225 - accuracy: 0.8660 - val_loss: 0.3497 - val_accuracy: 0.8478\n",
      "Epoch 4/5\n",
      "198/198 [==============================] - 1s 6ms/step - loss: 0.3065 - accuracy: 0.8726 - val_loss: 0.3535 - val_accuracy: 0.8478\n",
      "Epoch 5/5\n",
      "198/198 [==============================] - 1s 6ms/step - loss: 0.2963 - accuracy: 0.8759 - val_loss: 0.3576 - val_accuracy: 0.8466\n"
     ]
    }
   ],
   "source": [
    "model_rnn_pre.compile(optimizer='adam',\n",
    "              loss='binary_crossentropy',\n",
    "              metrics=['accuracy'])\n",
    "              \n",
    "epochs=5\n",
    "\n",
    "history_rnn_pre = model_rnn_pre.fit(partial_X_train_pre,\n",
    "                    partial_y_train,\n",
    "                    epochs=epochs,\n",
    "                    batch_size=512,\n",
    "                    validation_data=(X_val_pre, y_val),\n",
    "                    verbose=1)"
   ]
  },
  {
   "cell_type": "code",
   "execution_count": 19,
   "id": "65087a30",
   "metadata": {},
   "outputs": [
    {
     "data": {
      "image/png": "[encoded data removed]",
      "text/plain": [
       "<Figure size 432x288 with 1 Axes>"
      ]
     },
     "metadata": {
      "needs_background": "light"
     },
     "output_type": "display_data"
    },
    {
     "data": {
      "image/png": "[encoded data removed]",
      "text/plain": [
       "<Figure size 432x288 with 1 Axes>"
      ]
     },
     "metadata": {
      "needs_background": "light"
     },
     "output_type": "display_data"
    }
   ],
   "source": [
    "history_rnn_pre_dict = history_rnn_pre.history\n",
    "\n",
    "acc = history_rnn_pre_dict['accuracy']\n",
    "val_acc = history_rnn_pre_dict['val_accuracy']\n",
    "loss = history_rnn_pre_dict['loss']\n",
    "val_loss = history_rnn_pre_dict['val_loss']\n",
    "\n",
    "epochs = range(1, len(acc) + 1)\n",
    "\n",
    "# \"bo\"는 \"파란색 점\"입니다\n",
    "plt.plot(epochs, loss, 'bo', label='Training loss')\n",
    "# b는 \"파란 실선\"입니다\n",
    "plt.plot(epochs, val_loss, 'b', label='Validation loss')\n",
    "plt.title('Training and validation loss')\n",
    "plt.xlabel('Epochs')\n",
    "plt.ylabel('Loss')\n",
    "plt.legend()\n",
    "\n",
    "plt.show()\n",
    "\n",
    "# \"ro\"는 \"빨간색 점\"입니다\n",
    "plt.plot(epochs, acc, 'ro', label='Training acc')\n",
    "# r는 \"빨간 실선\"입니다\n",
    "plt.plot(epochs, val_acc, 'r', label='Validation acc')\n",
    "plt.title('Training and validation acc')\n",
    "plt.xlabel('Epochs')\n",
    "plt.ylabel('Acc')\n",
    "plt.legend()\n",
    "\n",
    "plt.show()"
   ]
  },
  {
   "cell_type": "markdown",
   "id": "5de185f6",
   "metadata": {},
   "source": [
    "### Test 셋으로 평가"
   ]
  },
  {
   "cell_type": "code",
   "execution_count": 20,
   "id": "09239ada",
   "metadata": {},
   "outputs": [
    {
     "name": "stdout",
     "output_type": "stream",
     "text": [
      "1537/1537 - 3s - loss: 0.3674 - accuracy: 0.8416\n",
      "[0.3674054741859436, 0.8415892124176025]\n"
     ]
    }
   ],
   "source": [
    "results = model_rnn_pre.evaluate(X_test_pre,  y_test, verbose=2)\n",
    "\n",
    "print(results)"
   ]
  },
  {
   "cell_type": "markdown",
   "id": "0db5edc1",
   "metadata": {},
   "source": [
    "### 5-2. RNN 모델로 post 패딩 데이터셋 학습"
   ]
  },
  {
   "cell_type": "code",
   "execution_count": 21,
   "id": "5bd16580",
   "metadata": {},
   "outputs": [
    {
     "name": "stdout",
     "output_type": "stream",
     "text": [
      "Epoch 1/5\n",
      "198/198 [==============================] - 3s 8ms/step - loss: 0.5499 - accuracy: 0.7321 - val_loss: 0.4047 - val_accuracy: 0.8360\n",
      "Epoch 2/5\n",
      "198/198 [==============================] - 1s 6ms/step - loss: 0.3608 - accuracy: 0.8521 - val_loss: 0.3618 - val_accuracy: 0.8405\n",
      "Epoch 3/5\n",
      "198/198 [==============================] - 1s 6ms/step - loss: 0.3237 - accuracy: 0.8674 - val_loss: 0.3805 - val_accuracy: 0.8335\n",
      "Epoch 4/5\n",
      "198/198 [==============================] - 1s 6ms/step - loss: 0.3116 - accuracy: 0.8719 - val_loss: 0.3504 - val_accuracy: 0.8474\n",
      "Epoch 5/5\n",
      "198/198 [==============================] - 1s 6ms/step - loss: 0.3032 - accuracy: 0.8753 - val_loss: 0.3586 - val_accuracy: 0.8451\n"
     ]
    }
   ],
   "source": [
    "model_rnn_post.compile(optimizer='adam',\n",
    "              loss='binary_crossentropy',\n",
    "              metrics=['accuracy'])\n",
    "              \n",
    "epochs=5\n",
    "\n",
    "history_rnn_post = model_rnn_post.fit(partial_X_train_post,\n",
    "                    partial_y_train,\n",
    "                    epochs=epochs,\n",
    "                    batch_size=512,\n",
    "                    validation_data=(X_val_post, y_val),\n",
    "                    verbose=1)"
   ]
  },
  {
   "cell_type": "code",
   "execution_count": 22,
   "id": "11618e9a",
   "metadata": {},
   "outputs": [
    {
     "data": {
      "image/png": "[encoded data removed]",
      "text/plain": [
       "<Figure size 432x288 with 1 Axes>"
      ]
     },
     "metadata": {
      "needs_background": "light"
     },
     "output_type": "display_data"
    },
    {
     "data": {
      "image/png": "[encoded data removed]",
      "text/plain": [
       "<Figure size 432x288 with 1 Axes>"
      ]
     },
     "metadata": {
      "needs_background": "light"
     },
     "output_type": "display_data"
    }
   ],
   "source": [
    "history_rnn_post_dict = history_rnn_post.history\n",
    "\n",
    "acc = history_rnn_post_dict['accuracy']\n",
    "val_acc = history_rnn_post_dict['val_accuracy']\n",
    "loss = history_rnn_post_dict['loss']\n",
    "val_loss = history_rnn_post_dict['val_loss']\n",
    "\n",
    "epochs = range(1, len(acc) + 1)\n",
    "\n",
    "# \"bo\"는 \"파란색 점\"입니다\n",
    "plt.plot(epochs, loss, 'bo', label='Training loss')\n",
    "# b는 \"파란 실선\"입니다\n",
    "plt.plot(epochs, val_loss, 'b', label='Validation loss')\n",
    "plt.title('Training and validation loss')\n",
    "plt.xlabel('Epochs')\n",
    "plt.ylabel('Loss')\n",
    "plt.legend()\n",
    "\n",
    "plt.show()\n",
    "\n",
    "# \"ro\"는 \"빨간색 점\"입니다\n",
    "plt.plot(epochs, acc, 'ro', label='Training acc')\n",
    "# r는 \"빨간 실선\"입니다\n",
    "plt.plot(epochs, val_acc, 'r', label='Validation acc')\n",
    "plt.title('Training and validation acc')\n",
    "plt.xlabel('Epochs')\n",
    "plt.ylabel('Acc')\n",
    "plt.legend()\n",
    "\n",
    "plt.show()"
   ]
  },
  {
   "cell_type": "markdown",
   "id": "9e558fcb",
   "metadata": {},
   "source": [
    "### Test 셋으로 평가"
   ]
  },
  {
   "cell_type": "code",
   "execution_count": 23,
   "id": "95b4c711",
   "metadata": {},
   "outputs": [
    {
     "name": "stdout",
     "output_type": "stream",
     "text": [
      "1537/1537 - 3s - loss: 0.3699 - accuracy: 0.8405\n",
      "[0.36992719769477844, 0.8405313491821289]\n"
     ]
    }
   ],
   "source": [
    "results = model_rnn_post.evaluate(X_test_post,  y_test, verbose=2)\n",
    "\n",
    "print(results)"
   ]
  },
  {
   "cell_type": "markdown",
   "id": "d0a4c5c4",
   "metadata": {},
   "source": [
    "### 5-3. CNN 모델로 pre 패딩 데이터셋 학습"
   ]
  },
  {
   "cell_type": "code",
   "execution_count": 24,
   "id": "1c20684a",
   "metadata": {},
   "outputs": [
    {
     "name": "stdout",
     "output_type": "stream",
     "text": [
      "Epoch 1/5\n",
      "198/198 [==============================] - 3s 6ms/step - loss: 0.5379 - accuracy: 0.7338 - val_loss: 0.3678 - val_accuracy: 0.8398\n",
      "Epoch 2/5\n",
      "198/198 [==============================] - 1s 5ms/step - loss: 0.3405 - accuracy: 0.8548 - val_loss: 0.3474 - val_accuracy: 0.8498\n",
      "Epoch 3/5\n",
      "198/198 [==============================] - 1s 5ms/step - loss: 0.3036 - accuracy: 0.8744 - val_loss: 0.3536 - val_accuracy: 0.8478\n",
      "Epoch 4/5\n",
      "198/198 [==============================] - 1s 5ms/step - loss: 0.2788 - accuracy: 0.8863 - val_loss: 0.3530 - val_accuracy: 0.8504\n",
      "Epoch 5/5\n",
      "198/198 [==============================] - 1s 5ms/step - loss: 0.2565 - accuracy: 0.8978 - val_loss: 0.3591 - val_accuracy: 0.8501\n"
     ]
    }
   ],
   "source": [
    "model_1dcnn_pre.compile(optimizer='adam',\n",
    "              loss='binary_crossentropy',\n",
    "              metrics=['accuracy'])\n",
    "              \n",
    "epochs=5\n",
    "\n",
    "history_1dcnn_pre = model_1dcnn_pre.fit(partial_X_train_pre,\n",
    "                                       partial_y_train,\n",
    "                                       epochs=epochs,\n",
    "                                       batch_size=512,\n",
    "                                       validation_data=(X_val_pre, y_val),\n",
    "                                       verbose=1)"
   ]
  },
  {
   "cell_type": "code",
   "execution_count": 25,
   "id": "4b079912",
   "metadata": {},
   "outputs": [
    {
     "data": {
      "image/png": "[encoded data removed]",
      "text/plain": [
       "<Figure size 864x576 with 2 Axes>"
      ]
     },
     "metadata": {
      "needs_background": "light"
     },
     "output_type": "display_data"
    }
   ],
   "source": [
    "history_1dcnn_pre_dict = history_1dcnn_pre.history\n",
    "\n",
    "acc = history_1dcnn_pre_dict['accuracy']\n",
    "val_acc = history_1dcnn_pre_dict['val_accuracy']\n",
    "loss = history_1dcnn_pre_dict['loss']\n",
    "val_loss = history_1dcnn_pre_dict['val_loss']\n",
    "\n",
    "epochs = range(1, len(acc) + 1)\n",
    "\n",
    "plt.figure(figsize=(12,8))\n",
    "\n",
    "# loss 그래프\n",
    "plt.subplot(1,2,1)\n",
    "plt.plot(epochs, loss, 'bo', label='Training loss')\n",
    "plt.plot(epochs, val_loss, 'b', label='Validation loss')\n",
    "plt.title('Training and validation loss')\n",
    "plt.xlabel('Epochs')\n",
    "plt.ylabel('Loss')\n",
    "plt.legend()\n",
    "\n",
    "# accuracy 그래프\n",
    "plt.subplot(1,2,2)\n",
    "plt.plot(epochs, acc, 'ro', label='Training acc')\n",
    "plt.plot(epochs, val_acc, 'r', label='Validation acc')\n",
    "plt.title('Training and validation accuracy')\n",
    "plt.xlabel('Epochs')\n",
    "plt.ylabel('Accuracy')\n",
    "plt.legend()\n",
    "\n",
    "plt.show()\n"
   ]
  },
  {
   "cell_type": "markdown",
   "id": "c87ded34",
   "metadata": {},
   "source": [
    "### Test셋으로 평가"
   ]
  },
  {
   "cell_type": "code",
   "execution_count": 26,
   "id": "4ed78fdb",
   "metadata": {},
   "outputs": [
    {
     "name": "stdout",
     "output_type": "stream",
     "text": [
      "1537/1537 - 2s - loss: 0.3683 - accuracy: 0.8458\n",
      "[0.36828136444091797, 0.8458002209663391]\n"
     ]
    }
   ],
   "source": [
    "results = model_1dcnn_pre.evaluate(X_test_pre,  y_test, verbose=2)\n",
    "\n",
    "print(results)"
   ]
  },
  {
   "cell_type": "markdown",
   "id": "48a68384",
   "metadata": {},
   "source": [
    "### 5-4. CNN 모델로 post 패딩 데이터셋 학습"
   ]
  },
  {
   "cell_type": "code",
   "execution_count": 27,
   "id": "e06e64cc",
   "metadata": {},
   "outputs": [
    {
     "name": "stdout",
     "output_type": "stream",
     "text": [
      "Epoch 1/5\n",
      "198/198 [==============================] - 2s 6ms/step - loss: 0.5430 - accuracy: 0.7134 - val_loss: 0.3640 - val_accuracy: 0.8408\n",
      "Epoch 2/5\n",
      "198/198 [==============================] - 1s 5ms/step - loss: 0.3360 - accuracy: 0.8572 - val_loss: 0.3440 - val_accuracy: 0.8500\n",
      "Epoch 3/5\n",
      "198/198 [==============================] - 1s 6ms/step - loss: 0.2959 - accuracy: 0.8780 - val_loss: 0.3443 - val_accuracy: 0.8519\n",
      "Epoch 4/5\n",
      "198/198 [==============================] - 1s 5ms/step - loss: 0.2682 - accuracy: 0.8910 - val_loss: 0.3536 - val_accuracy: 0.8498\n",
      "Epoch 5/5\n",
      "198/198 [==============================] - 1s 5ms/step - loss: 0.2424 - accuracy: 0.9041 - val_loss: 0.3613 - val_accuracy: 0.8496\n"
     ]
    }
   ],
   "source": [
    "model_1dcnn_post.compile(optimizer='adam',\n",
    "              loss='binary_crossentropy',\n",
    "              metrics=['accuracy'])\n",
    "              \n",
    "epochs=5\n",
    "\n",
    "history_1dcnn_post = model_1dcnn_post.fit(partial_X_train_post,\n",
    "                                       partial_y_train,\n",
    "                                       epochs=epochs,\n",
    "                                       batch_size=512,\n",
    "                                       validation_data=(X_val_post, y_val),\n",
    "                                       verbose=1)"
   ]
  },
  {
   "cell_type": "code",
   "execution_count": 28,
   "id": "b0928331",
   "metadata": {},
   "outputs": [
    {
     "data": {
      "image/png": "[encoded data removed]",
      "text/plain": [
       "<Figure size 864x576 with 2 Axes>"
      ]
     },
     "metadata": {
      "needs_background": "light"
     },
     "output_type": "display_data"
    }
   ],
   "source": [
    "history_1dcnn_post_dict = history_1dcnn_post.history\n",
    "\n",
    "acc = history_1dcnn_post_dict['accuracy']\n",
    "val_acc = history_1dcnn_post_dict['val_accuracy']\n",
    "loss = history_1dcnn_post_dict['loss']\n",
    "val_loss = history_1dcnn_post_dict['val_loss']\n",
    "\n",
    "epochs = range(1, len(acc) + 1)\n",
    "\n",
    "plt.figure(figsize=(12,8))\n",
    "\n",
    "# loss 그래프\n",
    "plt.subplot(1,2,1)\n",
    "plt.plot(epochs, loss, 'bo', label='Training loss')\n",
    "plt.plot(epochs, val_loss, 'b', label='Validation loss')\n",
    "plt.title('Training and validation loss')\n",
    "plt.xlabel('Epochs')\n",
    "plt.ylabel('Loss')\n",
    "plt.legend()\n",
    "\n",
    "# accuracy 그래프\n",
    "plt.subplot(1,2,2)\n",
    "plt.plot(epochs, acc, 'ro', label='Training acc')\n",
    "plt.plot(epochs, val_acc, 'r', label='Validation acc')\n",
    "plt.title('Training and validation accuracy')\n",
    "plt.xlabel('Epochs')\n",
    "plt.ylabel('Accuracy')\n",
    "plt.legend()\n",
    "\n",
    "plt.show()"
   ]
  },
  {
   "cell_type": "markdown",
   "id": "04a672d5",
   "metadata": {},
   "source": [
    "### Test셋으로 평가"
   ]
  },
  {
   "cell_type": "code",
   "execution_count": 29,
   "id": "d2fdc738",
   "metadata": {},
   "outputs": [
    {
     "name": "stdout",
     "output_type": "stream",
     "text": [
      "1537/1537 - 2s - loss: 0.3708 - accuracy: 0.8453\n",
      "[0.3708256781101227, 0.8452509045600891]\n"
     ]
    }
   ],
   "source": [
    "results = model_1dcnn_post.evaluate(X_test_post,  y_test, verbose=2)\n",
    "\n",
    "print(results)"
   ]
  },
  {
   "cell_type": "markdown",
   "id": "f0ce6aa5",
   "metadata": {},
   "source": [
    "### 5-5. GlobalMaxPooling1D() 모델로 pre 패딩 데이터셋 학습"
   ]
  },
  {
   "cell_type": "code",
   "execution_count": 30,
   "id": "aec202da",
   "metadata": {},
   "outputs": [
    {
     "name": "stdout",
     "output_type": "stream",
     "text": [
      "Epoch 1/5\n",
      "198/198 [==============================] - 1s 4ms/step - loss: 0.6150 - accuracy: 0.7342 - val_loss: 0.4803 - val_accuracy: 0.8130\n",
      "Epoch 2/5\n",
      "198/198 [==============================] - 1s 4ms/step - loss: 0.4037 - accuracy: 0.8314 - val_loss: 0.3709 - val_accuracy: 0.8373\n",
      "Epoch 3/5\n",
      "198/198 [==============================] - 1s 4ms/step - loss: 0.3386 - accuracy: 0.8564 - val_loss: 0.3558 - val_accuracy: 0.8440\n",
      "Epoch 4/5\n",
      "198/198 [==============================] - 1s 4ms/step - loss: 0.3067 - accuracy: 0.8729 - val_loss: 0.3532 - val_accuracy: 0.8461\n",
      "Epoch 5/5\n",
      "198/198 [==============================] - 1s 4ms/step - loss: 0.2829 - accuracy: 0.8837 - val_loss: 0.3567 - val_accuracy: 0.8465\n"
     ]
    }
   ],
   "source": [
    "model_gmp_pre.compile(optimizer='adam',\n",
    "              loss='binary_crossentropy',\n",
    "              metrics=['accuracy'])\n",
    "              \n",
    "epochs=5\n",
    "\n",
    "history_gmp_pre = model_gmp_pre.fit(partial_X_train_pre,\n",
    "                                       partial_y_train,\n",
    "                                       epochs=epochs,\n",
    "                                       batch_size=512,\n",
    "                                       validation_data=(X_val_pre, y_val),\n",
    "                                       verbose=1)"
   ]
  },
  {
   "cell_type": "code",
   "execution_count": 31,
   "id": "b4d24ab1",
   "metadata": {},
   "outputs": [
    {
     "data": {
      "image/png": "[encoded data removed]",
      "text/plain": [
       "<Figure size 864x576 with 2 Axes>"
      ]
     },
     "metadata": {
      "needs_background": "light"
     },
     "output_type": "display_data"
    }
   ],
   "source": [
    "history_gmp_pre_dict = history_gmp_pre.history\n",
    "\n",
    "acc = history_gmp_pre_dict['accuracy']\n",
    "val_acc = history_gmp_pre_dict['val_accuracy']\n",
    "loss = history_gmp_pre_dict['loss']\n",
    "val_loss = history_gmp_pre_dict['val_loss']\n",
    "\n",
    "epochs = range(1, len(acc) + 1)\n",
    "\n",
    "plt.figure(figsize=(12,8))\n",
    "\n",
    "# loss 그래프\n",
    "plt.subplot(1,2,1)\n",
    "plt.plot(epochs, loss, 'bo', label='Training loss')\n",
    "plt.plot(epochs, val_loss, 'b', label='Validation loss')\n",
    "plt.title('Training and validation loss')\n",
    "plt.xlabel('Epochs')\n",
    "plt.ylabel('Loss')\n",
    "plt.legend()\n",
    "\n",
    "# accuracy 그래프\n",
    "plt.subplot(1,2,2)\n",
    "plt.plot(epochs, acc, 'ro', label='Training acc')\n",
    "plt.plot(epochs, val_acc, 'r', label='Validation acc')\n",
    "plt.title('Training and validation accuracy')\n",
    "plt.xlabel('Epochs')\n",
    "plt.ylabel('Accuracy')\n",
    "plt.legend()\n",
    "\n",
    "plt.show()\n"
   ]
  },
  {
   "cell_type": "markdown",
   "id": "2ae960f6",
   "metadata": {},
   "source": [
    "### Test셋으로 평가"
   ]
  },
  {
   "cell_type": "code",
   "execution_count": 32,
   "id": "f0e731b0",
   "metadata": {},
   "outputs": [
    {
     "name": "stdout",
     "output_type": "stream",
     "text": [
      "1537/1537 - 2s - loss: 0.3650 - accuracy: 0.8418\n",
      "[0.36501529812812805, 0.8417722582817078]\n"
     ]
    }
   ],
   "source": [
    "results = model_gmp_pre.evaluate(X_test_pre,  y_test, verbose=2)\n",
    "\n",
    "print(results)"
   ]
  },
  {
   "cell_type": "markdown",
   "id": "d76b4013",
   "metadata": {},
   "source": [
    "### 5-6. GlobalMaxPooling1D() 모델로 post 패딩 데이터셋 학습"
   ]
  },
  {
   "cell_type": "code",
   "execution_count": 33,
   "id": "24d50c32",
   "metadata": {},
   "outputs": [
    {
     "name": "stdout",
     "output_type": "stream",
     "text": [
      "Epoch 1/5\n",
      "198/198 [==============================] - 1s 4ms/step - loss: 0.6320 - accuracy: 0.6909 - val_loss: 0.5150 - val_accuracy: 0.8020\n",
      "Epoch 2/5\n",
      "198/198 [==============================] - 1s 4ms/step - loss: 0.4221 - accuracy: 0.8280 - val_loss: 0.3746 - val_accuracy: 0.8380\n",
      "Epoch 3/5\n",
      "198/198 [==============================] - 1s 4ms/step - loss: 0.3401 - accuracy: 0.8568 - val_loss: 0.3547 - val_accuracy: 0.8448\n",
      "Epoch 4/5\n",
      "198/198 [==============================] - 1s 4ms/step - loss: 0.3067 - accuracy: 0.8726 - val_loss: 0.3519 - val_accuracy: 0.8460\n",
      "Epoch 5/5\n",
      "198/198 [==============================] - 1s 4ms/step - loss: 0.2835 - accuracy: 0.8833 - val_loss: 0.3550 - val_accuracy: 0.8460\n"
     ]
    }
   ],
   "source": [
    "model_gmp_post.compile(optimizer='adam',\n",
    "              loss='binary_crossentropy',\n",
    "              metrics=['accuracy'])\n",
    "              \n",
    "epochs=5\n",
    "\n",
    "history_gmp_post = model_gmp_post.fit(partial_X_train_post,\n",
    "                                       partial_y_train,\n",
    "                                       epochs=epochs,\n",
    "                                       batch_size=512,\n",
    "                                       validation_data=(X_val_post, y_val),\n",
    "                                       verbose=1)"
   ]
  },
  {
   "cell_type": "code",
   "execution_count": 34,
   "id": "c1a9f89d",
   "metadata": {},
   "outputs": [
    {
     "data": {
      "image/png": "[encoded data removed]",
      "text/plain": [
       "<Figure size 864x576 with 2 Axes>"
      ]
     },
     "metadata": {
      "needs_background": "light"
     },
     "output_type": "display_data"
    }
   ],
   "source": [
    "history_gmp_post_dict = history_gmp_post.history\n",
    "\n",
    "acc = history_gmp_post_dict['accuracy']\n",
    "val_acc = history_gmp_post_dict['val_accuracy']\n",
    "loss = history_gmp_post_dict['loss']\n",
    "val_loss = history_gmp_post_dict['val_loss']\n",
    "\n",
    "epochs = range(1, len(acc) + 1)\n",
    "\n",
    "plt.figure(figsize=(12,8))\n",
    "\n",
    "# loss 그래프\n",
    "plt.subplot(1,2,1)\n",
    "plt.plot(epochs, loss, 'bo', label='Training loss')\n",
    "plt.plot(epochs, val_loss, 'b', label='Validation loss')\n",
    "plt.title('Training and validation loss')\n",
    "plt.xlabel('Epochs')\n",
    "plt.ylabel('Loss')\n",
    "plt.legend()\n",
    "\n",
    "# accuracy 그래프\n",
    "plt.subplot(1,2,2)\n",
    "plt.plot(epochs, acc, 'ro', label='Training acc')\n",
    "plt.plot(epochs, val_acc, 'r', label='Validation acc')\n",
    "plt.title('Training and validation accuracy')\n",
    "plt.xlabel('Epochs')\n",
    "plt.ylabel('Accuracy')\n",
    "plt.legend()\n",
    "\n",
    "plt.show()"
   ]
  },
  {
   "cell_type": "markdown",
   "id": "b8039bfb",
   "metadata": {},
   "source": [
    "### Test셋으로 평가"
   ]
  },
  {
   "cell_type": "code",
   "execution_count": 35,
   "id": "b3ae24ac",
   "metadata": {},
   "outputs": [
    {
     "name": "stdout",
     "output_type": "stream",
     "text": [
      "1537/1537 - 2s - loss: 0.3656 - accuracy: 0.8423\n",
      "[0.36564183235168457, 0.8422605395317078]\n"
     ]
    }
   ],
   "source": [
    "results = model_gmp_post.evaluate(X_test_post,  y_test, verbose=2)\n",
    "\n",
    "print(results)"
   ]
  },
  {
   "cell_type": "markdown",
   "id": "277b76c4",
   "metadata": {},
   "source": [
    "## 6. 모델 평가\n",
    "    1. RNN(pre ) : 84.16 %\n",
    "          (post) : 84.05 %\n",
    "          \n",
    "    2. CNN(pre ) : 84.58 %\n",
    "          (post) : 84.53 %\n",
    "          \n",
    "    3. GMP1D(pre ) : 84.18 %\n",
    "            (post) : 84.23 %"
   ]
  },
  {
   "cell_type": "markdown",
   "id": "b9c627fc",
   "metadata": {},
   "source": [
    "## 7. 학습된 Embedding layer 분석"
   ]
  },
  {
   "cell_type": "markdown",
   "id": "8d946c84",
   "metadata": {},
   "source": [
    "### 모델의 첫번째 레이어를 embedding layer로 할당"
   ]
  },
  {
   "cell_type": "code",
   "execution_count": 36,
   "id": "c0018349",
   "metadata": {},
   "outputs": [
    {
     "name": "stdout",
     "output_type": "stream",
     "text": [
      "(10000, 16)\n"
     ]
    }
   ],
   "source": [
    "embedding_layer = model_rnn_pre.layers[0]\n",
    "weights = embedding_layer.get_weights()[0]\n",
    "print(weights.shape)    # shape: (vocab_size, embedding_dim)"
   ]
  },
  {
   "cell_type": "markdown",
   "id": "e87f45e6",
   "metadata": {},
   "source": [
    "### Embedding layer에 학습된 워드 벡터 기록"
   ]
  },
  {
   "cell_type": "code",
   "execution_count": 37,
   "id": "510b98bf",
   "metadata": {},
   "outputs": [],
   "source": [
    "import os\n",
    "\n",
    "# 학습한 Embedding 파라미터를 파일에 써서 저장\n",
    "word2vec_file_path = os.getenv('HOME')+'/aiffel/sentiment_classification/data/word2vec_project.txt'\n",
    "f = open(word2vec_file_path, 'w')\n",
    "f.write('{} {}\\n'.format(vocab_size-4, word_vector_dim))  # 몇개의 벡터를 얼마 사이즈로 기재할지 타이틀을 씁니다.\n",
    "\n",
    "# 단어 개수(특수문자 4개는 제외)만큼의 워드 벡터를 파일에 기록\n",
    "vectors = model_rnn_pre.get_weights()[0]\n",
    "for i in range(4,vocab_size):\n",
    "    f.write('{} {}\\n'.format(index_to_word[i], ' '.join(map(str, list(vectors[i, :])))))\n",
    "f.close()"
   ]
  },
  {
   "cell_type": "markdown",
   "id": "0aaf6b33",
   "metadata": {},
   "source": [
    "### gensim 패키지를 이용해 Embedding parameter를 word vector로 활용"
   ]
  },
  {
   "cell_type": "code",
   "execution_count": 38,
   "id": "67dc1b5f",
   "metadata": {},
   "outputs": [
    {
     "data": {
      "text/plain": [
       "[('익숙', 0.7416452765464783),\n",
       " ('투', 0.7323955297470093),\n",
       " ('바뀔', 0.6923524141311646),\n",
       " ('정말로', 0.6643781661987305),\n",
       " ('만지', 0.654167115688324),\n",
       " ('드러난다', 0.6488943696022034),\n",
       " ('지하', 0.6385790109634399),\n",
       " ('만만', 0.6184035539627075),\n",
       " ('유오성', 0.5989598631858826),\n",
       " ('계약', 0.5982666015625)]"
      ]
     },
     "execution_count": 38,
     "metadata": {},
     "output_type": "execute_result"
    }
   ],
   "source": [
    "from gensim.models.keyedvectors import Word2VecKeyedVectors\n",
    "\n",
    "word_vectors = Word2VecKeyedVectors.load_word2vec_format(word2vec_file_path, binary=False)\n",
    "word_vectors.similar_by_word(\"하늘\")"
   ]
  },
  {
   "cell_type": "code",
   "execution_count": 39,
   "id": "519af8d5",
   "metadata": {},
   "outputs": [
    {
     "data": {
      "text/plain": [
       "[('\"\"', 0.7632853984832764),\n",
       " ('저렇', 0.7425193190574646),\n",
       " ('깨달', 0.7348558306694031),\n",
       " ('보영', 0.7118668556213379),\n",
       " ('배틀', 0.7098310589790344),\n",
       " ('단면', 0.6913696527481079),\n",
       " ('공식', 0.6900316476821899),\n",
       " ('대략', 0.6780614256858826),\n",
       " ('탈', 0.6748383641242981),\n",
       " ('세요', 0.6723508834838867)]"
      ]
     },
     "execution_count": 39,
     "metadata": {},
     "output_type": "execute_result"
    }
   ],
   "source": [
    "word_vectors.similar_by_word(\"바다\")"
   ]
  },
  {
   "cell_type": "markdown",
   "id": "1e06837a",
   "metadata": {},
   "source": [
    "단어 하나를 제시하고 word vector로 전환했을때 원래 제시되었던 단어와 유사도가 떨어지는 단어가 제시되었다. "
   ]
  },
  {
   "cell_type": "markdown",
   "id": "78e7bf99",
   "metadata": {},
   "source": [
    "## 8. 한국어 Word2Vec 임베딩 활용하여 성능개선"
   ]
  },
  {
   "cell_type": "markdown",
   "id": "d099abaf",
   "metadata": {},
   "source": [
    "pip install --upgrade gensim==3.8.3 설치"
   ]
  },
  {
   "cell_type": "code",
   "execution_count": 40,
   "id": "d8a1cdab",
   "metadata": {},
   "outputs": [
    {
     "name": "stderr",
     "output_type": "stream",
     "text": [
      "/tmp/ipykernel_1685/434912183.py:7: DeprecationWarning: Call to deprecated `__getitem__` (Method will be removed in 4.0.0, use self.wv.__getitem__() instead).\n",
      "  vector = word2vec['하늘']\n"
     ]
    },
    {
     "data": {
      "text/plain": [
       "(200,)"
      ]
     },
     "execution_count": 40,
     "metadata": {},
     "output_type": "execute_result"
    }
   ],
   "source": [
    "import gensim\n",
    "from gensim.models import KeyedVectors\n",
    "\n",
    "word2vec_path = os.getenv('HOME')+'/aiffel/sentiment_classification/data/ko.bin'\n",
    "\n",
    "word2vec = gensim.models.Word2Vec.load(word2vec_path)\n",
    "vector = word2vec['하늘']\n",
    "vector.shape     # 200dim의 워드 벡터"
   ]
  },
  {
   "cell_type": "code",
   "execution_count": 41,
   "id": "055a6370",
   "metadata": {},
   "outputs": [
    {
     "name": "stderr",
     "output_type": "stream",
     "text": [
      "/tmp/ipykernel_1685/1004379924.py:1: DeprecationWarning: Call to deprecated `similar_by_word` (Method will be removed in 4.0.0, use self.wv.similar_by_word() instead).\n",
      "  word2vec.similar_by_word(\"하늘\")\n"
     ]
    },
    {
     "data": {
      "text/plain": [
       "[('보름달', 0.5647983551025391),\n",
       " ('지옥', 0.5606871843338013),\n",
       " ('바다', 0.5598345398902893),\n",
       " ('태양', 0.5543240904808044),\n",
       " ('저승', 0.5534777641296387),\n",
       " ('세상', 0.5530140399932861),\n",
       " ('영혼', 0.5516394376754761),\n",
       " ('햇살', 0.5444256067276001),\n",
       " ('하느님', 0.5399892926216125),\n",
       " ('빛', 0.5351409912109375)]"
      ]
     },
     "execution_count": 41,
     "metadata": {},
     "output_type": "execute_result"
    }
   ],
   "source": [
    "word2vec.similar_by_word(\"하늘\")"
   ]
  },
  {
   "cell_type": "code",
   "execution_count": 42,
   "id": "516f1ce7",
   "metadata": {},
   "outputs": [
    {
     "name": "stderr",
     "output_type": "stream",
     "text": [
      "/tmp/ipykernel_1685/2185404609.py:1: DeprecationWarning: Call to deprecated `similar_by_word` (Method will be removed in 4.0.0, use self.wv.similar_by_word() instead).\n",
      "  word2vec.similar_by_word(\"바다\")\n"
     ]
    },
    {
     "data": {
      "text/plain": [
       "[('육지', 0.7259926795959473),\n",
       " ('호수', 0.6840913891792297),\n",
       " ('바닷속', 0.6585341691970825),\n",
       " ('바닷가', 0.6451719403266907),\n",
       " ('늪', 0.6421072483062744),\n",
       " ('급류', 0.6311373710632324),\n",
       " ('바닷물', 0.6305385231971741),\n",
       " ('절벽', 0.6251566410064697),\n",
       " ('바위', 0.6213432550430298),\n",
       " ('골짜기', 0.6192145347595215)]"
      ]
     },
     "execution_count": 42,
     "metadata": {},
     "output_type": "execute_result"
    }
   ],
   "source": [
    "word2vec.similar_by_word(\"바다\")"
   ]
  },
  {
   "cell_type": "code",
   "execution_count": 43,
   "id": "7769a775",
   "metadata": {},
   "outputs": [
    {
     "name": "stderr",
     "output_type": "stream",
     "text": [
      "/tmp/ipykernel_1685/2617520188.py:1: DeprecationWarning: Call to deprecated `similar_by_word` (Method will be removed in 4.0.0, use self.wv.similar_by_word() instead).\n",
      "  word2vec.similar_by_word(\"산\")\n"
     ]
    },
    {
     "data": {
      "text/plain": [
       "[('산의', 0.7235683798789978),\n",
       " ('산과', 0.6179043054580688),\n",
       " ('기슭', 0.5736351013183594),\n",
       " ('산기슭', 0.566975474357605),\n",
       " ('동편', 0.5566598176956177),\n",
       " ('산계', 0.5555674433708191),\n",
       " ('계곡', 0.5549115538597107),\n",
       " ('산맥', 0.5487329363822937),\n",
       " ('언덕', 0.5379024147987366),\n",
       " ('산중', 0.5327262878417969)]"
      ]
     },
     "execution_count": 43,
     "metadata": {},
     "output_type": "execute_result"
    }
   ],
   "source": [
    "word2vec.similar_by_word(\"산\")"
   ]
  },
  {
   "cell_type": "code",
   "execution_count": 44,
   "id": "864a5370",
   "metadata": {},
   "outputs": [
    {
     "name": "stderr",
     "output_type": "stream",
     "text": [
      "/tmp/ipykernel_1685/2108708290.py:1: DeprecationWarning: Call to deprecated `similar_by_word` (Method will be removed in 4.0.0, use self.wv.similar_by_word() instead).\n",
      "  word2vec.similar_by_word(\"우주\")\n"
     ]
    },
    {
     "data": {
      "text/plain": [
       "[('우주인', 0.5970312356948853),\n",
       " ('우주선', 0.5897793173789978),\n",
       " ('태양계', 0.5495188236236572),\n",
       " ('인공위성', 0.5380538105964661),\n",
       " ('발사체', 0.5338727235794067),\n",
       " ('생명체', 0.508995532989502),\n",
       " ('탐사선', 0.5014845728874207),\n",
       " ('외계', 0.49762025475502014),\n",
       " ('소유스', 0.49637308716773987),\n",
       " ('정거장', 0.4955979883670807)]"
      ]
     },
     "execution_count": 44,
     "metadata": {},
     "output_type": "execute_result"
    }
   ],
   "source": [
    "word2vec.similar_by_word(\"우주\")"
   ]
  },
  {
   "cell_type": "code",
   "execution_count": 45,
   "id": "aaf28194",
   "metadata": {},
   "outputs": [
    {
     "name": "stderr",
     "output_type": "stream",
     "text": [
      "/tmp/ipykernel_1685/470712310.py:1: DeprecationWarning: Call to deprecated `similar_by_word` (Method will be removed in 4.0.0, use self.wv.similar_by_word() instead).\n",
      "  word2vec.similar_by_word(\"절벽\")\n"
     ]
    },
    {
     "data": {
      "text/plain": [
       "[('언덕', 0.7816677093505859),\n",
       " ('벼랑', 0.7741155624389648),\n",
       " ('골짜기', 0.7585533857345581),\n",
       " ('바위', 0.7493926286697388),\n",
       " ('암벽', 0.742572009563446),\n",
       " ('기암', 0.7364760637283325),\n",
       " ('산기슭', 0.7203370928764343),\n",
       " ('경사면', 0.710213840007782),\n",
       " ('괴석', 0.7096382975578308),\n",
       " ('연못', 0.6967140436172485)]"
      ]
     },
     "execution_count": 45,
     "metadata": {},
     "output_type": "execute_result"
    }
   ],
   "source": [
    "word2vec.similar_by_word(\"절벽\")"
   ]
  },
  {
   "cell_type": "code",
   "execution_count": 46,
   "id": "cd566eed",
   "metadata": {
    "scrolled": true
   },
   "outputs": [
    {
     "name": "stderr",
     "output_type": "stream",
     "text": [
      "/tmp/ipykernel_1685/878481097.py:1: DeprecationWarning: Call to deprecated `similar_by_word` (Method will be removed in 4.0.0, use self.wv.similar_by_word() instead).\n",
      "  word2vec.similar_by_word(\"태양계\")\n"
     ]
    },
    {
     "data": {
      "text/plain": [
       "[('은하계', 0.783160924911499),\n",
       " ('해왕성', 0.7697625160217285),\n",
       " ('항성', 0.7588958740234375),\n",
       " ('행성', 0.740221381187439),\n",
       " ('명왕성', 0.7398768663406372),\n",
       " ('천체', 0.734818696975708),\n",
       " ('천왕성', 0.7224814891815186),\n",
       " ('은하', 0.7186455726623535),\n",
       " ('목성', 0.7118706703186035),\n",
       " ('성운', 0.7083038687705994)]"
      ]
     },
     "execution_count": 46,
     "metadata": {},
     "output_type": "execute_result"
    }
   ],
   "source": [
    "word2vec.similar_by_word(\"태양계\")"
   ]
  },
  {
   "cell_type": "markdown",
   "id": "faebe275",
   "metadata": {},
   "source": [
    "Word2Vec에서 제공하는 워드 임베딩 벡터들끼리는 유사도가 가까운것이 서로 가깝게 학습된 것을 확인할 수 있다. \n",
    "이전에 학습했던 모델의 첫번째 레이어(Embedding layer)를 Word2Vec으로 교체하여 RNN(pre) 모델을 학습시켜본다. "
   ]
  },
  {
   "cell_type": "markdown",
   "id": "1d9797e2",
   "metadata": {},
   "source": [
    "### RNN 모델 작성 및 학습"
   ]
  },
  {
   "cell_type": "code",
   "execution_count": 47,
   "id": "106e9415",
   "metadata": {},
   "outputs": [
    {
     "name": "stderr",
     "output_type": "stream",
     "text": [
      "/tmp/ipykernel_1685/3778977091.py:10: DeprecationWarning: Call to deprecated `__contains__` (Method will be removed in 4.0.0, use self.wv.__contains__() instead).\n",
      "  if index_to_word[i] in word2vec:\n",
      "/tmp/ipykernel_1685/3778977091.py:11: DeprecationWarning: Call to deprecated `__getitem__` (Method will be removed in 4.0.0, use self.wv.__getitem__() instead).\n",
      "  embedding_matrix[i] = word2vec[index_to_word[i]]\n"
     ]
    }
   ],
   "source": [
    "from tensorflow.keras.initializers import Constant\n",
    "\n",
    "vocab_size = 10000    # 어휘 사전의 크기입니다(10,000개의 단어)\n",
    "word_vector_dim = 200  # 워드 벡터의 차원수 (변경가능한 하이퍼파라미터)\n",
    "\n",
    "embedding_matrix = np.random.rand(vocab_size, word_vector_dim)\n",
    "\n",
    "# embedding_matrix에 Word2Vec 워드 벡터를 단어 하나씩마다 차례차례 카피한다.\n",
    "for i in range(4,vocab_size):\n",
    "    if index_to_word[i] in word2vec:\n",
    "        embedding_matrix[i] = word2vec[index_to_word[i]]"
   ]
  },
  {
   "cell_type": "code",
   "execution_count": 48,
   "id": "fbaabe46",
   "metadata": {},
   "outputs": [
    {
     "name": "stdout",
     "output_type": "stream",
     "text": [
      "Model: \"sequential_6\"\n",
      "_________________________________________________________________\n",
      "Layer (type)                 Output Shape              Param #   \n",
      "=================================================================\n",
      "embedding_6 (Embedding)      (None, 41, 200)           2000000   \n",
      "_________________________________________________________________\n",
      "lstm_2 (LSTM)                (None, 128)               168448    \n",
      "_________________________________________________________________\n",
      "dense_12 (Dense)             (None, 8)                 1032      \n",
      "_________________________________________________________________\n",
      "dense_13 (Dense)             (None, 1)                 9         \n",
      "=================================================================\n",
      "Total params: 2,169,489\n",
      "Trainable params: 2,169,489\n",
      "Non-trainable params: 0\n",
      "_________________________________________________________________\n"
     ]
    }
   ],
   "source": [
    "# LSTM 레이어로 모델 설계\n",
    "model_ko = keras.Sequential()\n",
    "model_ko.add(keras.layers.Embedding(vocab_size, \n",
    "                                 word_vector_dim, \n",
    "                                 embeddings_initializer=Constant(embedding_matrix),  # 카피한 임베딩을 여기서 활용\n",
    "                                 input_length=maxlen, \n",
    "                                 trainable=True))   # trainable을 True로 주면 Fine-tuning\n",
    "model_ko.add(keras.layers.LSTM(128))  # LSTM state 벡터의 차원수 (변경가능)\n",
    "model_ko.add(keras.layers.Dense(8, activation='relu'))\n",
    "model_ko.add(keras.layers.Dense(1, activation='sigmoid'))  # 최종 출력은 긍정/부정을 나타내는 1dim\n",
    "\n",
    "model_ko.summary()"
   ]
  },
  {
   "cell_type": "code",
   "execution_count": 49,
   "id": "e7d8ec6b",
   "metadata": {},
   "outputs": [
    {
     "name": "stdout",
     "output_type": "stream",
     "text": [
      "Epoch 1/5\n",
      "1581/1581 [==============================] - 12s 7ms/step - loss: 0.5154 - accuracy: 0.7006 - val_loss: 0.3493 - val_accuracy: 0.8438\n",
      "Epoch 2/5\n",
      "1581/1581 [==============================] - 10s 7ms/step - loss: 0.3144 - accuracy: 0.8644 - val_loss: 0.3192 - val_accuracy: 0.8619\n",
      "Epoch 3/5\n",
      "1581/1581 [==============================] - 10s 7ms/step - loss: 0.2638 - accuracy: 0.8895 - val_loss: 0.3152 - val_accuracy: 0.8656\n",
      "Epoch 4/5\n",
      "1581/1581 [==============================] - 10s 7ms/step - loss: 0.2241 - accuracy: 0.9078 - val_loss: 0.3266 - val_accuracy: 0.8636\n",
      "Epoch 5/5\n",
      "1581/1581 [==============================] - 10s 6ms/step - loss: 0.1866 - accuracy: 0.9251 - val_loss: 0.3486 - val_accuracy: 0.8616\n"
     ]
    }
   ],
   "source": [
    "model_ko.compile(optimizer='adam',\n",
    "              loss='binary_crossentropy',\n",
    "              metrics=['accuracy'])\n",
    "              \n",
    "epochs=5   \n",
    "\n",
    "history_ko = model_ko.fit(partial_X_train_pre,\n",
    "                    partial_y_train,\n",
    "                    epochs=epochs,\n",
    "                    batch_size=64,\n",
    "                    validation_data=(X_val_pre, y_val),\n",
    "                    verbose=1)"
   ]
  },
  {
   "cell_type": "markdown",
   "id": "0dce3e51",
   "metadata": {},
   "source": [
    "### Acc, Loss 시각화"
   ]
  },
  {
   "cell_type": "code",
   "execution_count": 50,
   "id": "2dc93a4f",
   "metadata": {},
   "outputs": [
    {
     "data": {
      "image/png": "[encoded data removed]",
      "text/plain": [
       "<Figure size 864x576 with 2 Axes>"
      ]
     },
     "metadata": {
      "needs_background": "light"
     },
     "output_type": "display_data"
    }
   ],
   "source": [
    "history_ko_dict = history_ko.history\n",
    "\n",
    "acc = history_ko_dict['accuracy']\n",
    "val_acc = history_ko_dict['val_accuracy']\n",
    "loss = history_ko_dict['loss']\n",
    "val_loss = history_ko_dict['val_loss']\n",
    "\n",
    "epochs = range(1, len(acc) + 1)\n",
    "\n",
    "plt.figure(figsize=(12,8))\n",
    "\n",
    "# loss 그래프\n",
    "plt.subplot(1,2,1)\n",
    "plt.plot(epochs, loss, 'bo', label='Training loss')\n",
    "plt.plot(epochs, val_loss, 'b', label='Validation loss')\n",
    "plt.title('Training and validation loss')\n",
    "plt.xlabel('Epochs')\n",
    "plt.ylabel('Loss')\n",
    "plt.legend()\n",
    "\n",
    "# accuracy 그래프\n",
    "plt.subplot(1,2,2)\n",
    "plt.plot(epochs, acc, 'ro', label='Training acc')\n",
    "plt.plot(epochs, val_acc, 'r', label='Validation acc')\n",
    "plt.title('Training and validation accuracy')\n",
    "plt.xlabel('Epochs')\n",
    "plt.ylabel('Accuracy')\n",
    "plt.legend()\n",
    "\n",
    "plt.show()"
   ]
  },
  {
   "cell_type": "markdown",
   "id": "99159bd4",
   "metadata": {},
   "source": [
    "### Test셋으로 모델 성능 평가"
   ]
  },
  {
   "cell_type": "code",
   "execution_count": 51,
   "id": "06baa1eb",
   "metadata": {},
   "outputs": [
    {
     "name": "stdout",
     "output_type": "stream",
     "text": [
      "1537/1537 - 3s - loss: 0.3573 - accuracy: 0.8602\n",
      "[0.35729360580444336, 0.8602233529090881]\n"
     ]
    }
   ],
   "source": [
    "results = model_ko.evaluate(X_test_pre,  y_test, verbose=2)\n",
    "\n",
    "print(results)"
   ]
  },
  {
   "cell_type": "markdown",
   "id": "a8337e4a",
   "metadata": {},
   "source": [
    "## 9. 결론 및 후기"
   ]
  },
  {
   "cell_type": "markdown",
   "id": "572baa5b",
   "metadata": {},
   "source": [
    "한국어 Word2Vec을 RNN의 첫번째 레이어에 적용해서 얻은 최종 Acc 수치는 86.02%를 기록하였다. 그래프상으로도 확인이 가능하지만 5번의 epochs는 오히려 역효과를 낳고 2번의 epchos가 현재까진 최적의 수치로 보인다. 그리고 padding 처리한 data셋을 pre와 post로 나누어 시험했었는데 대부분의 모델이 84%를 기록한걸 보면 노드에서 설명되었던 것과는 다르게 유의미한 차이를 보이진 않았다. 이번엔 하면서 이해가 가지 않는 부분이 많았는데 특히 Ebedding layer의 개념과 원리를 정확히 알지 못해 노드를 따라가기 벅찼다. 그래서 Word2Vec의 array가 어떤 방식으로 구성되어있는지도 이해하지 못했던 점이 아쉬웠다."
   ]
  }
 ],
 "metadata": {
  "kernelspec": {
   "display_name": "Python 3 (ipykernel)",
   "language": "python",
   "name": "python3"
  },
  "language_info": {
   "codemirror_mode": {
    "name": "ipython",
    "version": 3
   },
   "file_extension": ".py",
   "mimetype": "text/x-python",
   "name": "python",
   "nbconvert_exporter": "python",
   "pygments_lexer": "ipython3",
   "version": "3.9.7"
  }
 },
 "nbformat": 4,
 "nbformat_minor": 5
}
